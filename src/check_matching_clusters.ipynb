{
 "cells": [
  {
   "cell_type": "code",
   "execution_count": 1,
   "metadata": {},
   "outputs": [],
   "source": [
    "import os\n",
    "import pandas as pd\n",
    "import glob\n",
    "import matplotlib.pyplot as plt\n",
    "import seaborn as sns\n",
    "import warnings\n",
    "import numpy as np\n",
    "\n",
    "from utils.conn_data import load_pickle\n",
    "\n",
    "warnings.filterwarnings('ignore')\n",
    "\n",
    "plt.style.use('ggplot')"
   ]
  },
  {
   "cell_type": "code",
   "execution_count": 22,
   "metadata": {},
   "outputs": [],
   "source": [
    "outputs_path = os.path.join(os.path.dirname(os.getcwd()), \"src\", \"data\", \"backup\")\n",
    "des = pd.read_csv(os.path.join(os.path.dirname(os.getcwd()), \"src\", 'data', 'utils', 'fredmd_description.csv'), sep=';')\n",
    "\n",
    "fs_methods = [\n",
    "    \"dynotears_rollingcluster_k5\",\n",
    "    \"var-lingam_rollingcluster_k5\",\n",
    "]\n",
    "metric_names = [\"stability\", \"mse\", \"mae\"]\n",
    "etf_focus = None\n",
    "stability_threshold = 0.8\n",
    "plot_ts = False"
   ]
  },
  {
   "cell_type": "code",
   "execution_count": 23,
   "metadata": {},
   "outputs": [],
   "source": [
    "all_parents = []\n",
    "for fs in fs_methods:\n",
    "    results_files = glob.glob(os.path.join(outputs_path, fs, \"etfs_macro_large\", \"*.pickle\"))\n",
    "\n",
    "    for file in results_files:\n",
    "        etf = file.split(fs)[-1].split(\"/\")[-1].split(\"_\")[0]\n",
    "        obj = load_pickle(path=file)\n",
    "        parents_of_target_df = obj[\"parents_of_target\"]\n",
    "\n",
    "        # add tags\n",
    "        parents_of_target_df[\"etf\"] = etf\n",
    "        parents_of_target_df[\"fs\"] = fs\n",
    "\n",
    "        # fill na of clusters column\n",
    "        if (fs == \"dynotears_rollingcluster_k5\") or (fs == \"var-lingam_rollingcluster_k5\"):\n",
    "            parents_of_target_df[\"cluster\"] = parents_of_target_df[\"cluster\"].fillna(parents_of_target_df[\"cluster\"].max() + 1)\n",
    "        elif (fs == \"lasso1_nocluster\") or (fs == \"pairwise-granger_nocluster\") or (fs == \"multivariate-granger_nocluster\"):\n",
    "            parents_of_target_df['cluster'] = pd.factorize(parents_of_target_df['fred'])[0]\n",
    "\n",
    "        all_parents.append(parents_of_target_df)\n",
    "all_parents_df = pd.concat(all_parents)"
   ]
  },
  {
   "cell_type": "markdown",
   "metadata": {},
   "source": [
    "## "
   ]
  },
  {
   "cell_type": "code",
   "execution_count": 24,
   "metadata": {},
   "outputs": [],
   "source": [
    "etf = \"SPY\"\n",
    "fs = \"dynotears_rollingcluster_k5\"\n",
    "\n",
    "check_df = all_parents_df.loc[(all_parents_df['etf'] == etf)&(all_parents_df['fs'] == fs)].drop([\"etf\", \"fs\"], axis=1)\n",
    "check_df[\"date\"] = [pd.to_datetime(dtref).strftime('%Y-%m-%d') for dtref in check_df[\"date\"]]\n",
    "\n",
    "cluster_variables = {}\n",
    "for cluster in check_df[\"cluster\"].unique():\n",
    "    cluster_variables[cluster] = check_df.loc[check_df[\"cluster\"] == cluster][\"fred\"].unique()"
   ]
  },
  {
   "cell_type": "code",
   "execution_count": 25,
   "metadata": {},
   "outputs": [
    {
     "data": {
      "text/plain": [
       "{4.0: array(['RPI', 'S&P: indust', 'INVEST', 'AMDMUOx', 'CMRMTSPLx', 'UEMP27OV',\n",
       "        'RETAILx', 'CUSR0000SAS', 'UEMPLT5', 'ACOGNO'], dtype=object),\n",
       " 1.0: array(['S&P: indust', 'INVEST', 'AMDMUOx', 'EXJPUSx', 'IPCONGD', 'PPICMM',\n",
       "        'UEMP27OV', 'RETAILx', 'CUSR0000SAS'], dtype=object),\n",
       " 2.0: array(['EXJPUSx', 'RPI', 'S&P: indust', 'AMDMUOx', 'CMRMTSPLx', 'IPNMAT',\n",
       "        'PPICMM', 'RETAILx', 'CUSR0000SAS', 'UEMPLT5'], dtype=object),\n",
       " 0.0: array(['S&P: indust', 'RPI', 'EXJPUSx', 'INVEST', 'AMDMUOx', 'HOUSTW',\n",
       "        'RETAILx', 'CUSR0000SAS', 'ACOGNO'], dtype=object),\n",
       " 3.0: array(['EXJPUSx', 'AMDMUOx', 'S&P: indust', 'UMCSENTx', 'UEMP27OV',\n",
       "        'RETAILx', 'CUSR0000SAS', 'UEMPLT5'], dtype=object),\n",
       " 5.0: array(['SPY'], dtype=object)}"
      ]
     },
     "execution_count": 25,
     "metadata": {},
     "output_type": "execute_result"
    }
   ],
   "source": [
    "cluster_variables"
   ]
  },
  {
   "cell_type": "code",
   "execution_count": 21,
   "metadata": {},
   "outputs": [
    {
     "data": {
      "text/plain": [
       "{4.0: array(['RPI', 'S&P: indust', 'INVEST', 'AMDMUOx', 'CMRMTSPLx', 'UEMP27OV',\n",
       "        'RETAILx', 'CUSR0000SAS', 'UEMPLT5', 'ACOGNO'], dtype=object),\n",
       " 1.0: array(['S&P: indust', 'INVEST', 'AMDMUOx', 'EXJPUSx', 'IPCONGD', 'PPICMM',\n",
       "        'UEMP27OV', 'RETAILx', 'CUSR0000SAS'], dtype=object),\n",
       " 2.0: array(['EXJPUSx', 'RPI', 'S&P: indust', 'AMDMUOx', 'CMRMTSPLx', 'IPNMAT',\n",
       "        'PPICMM', 'RETAILx', 'CUSR0000SAS', 'UEMPLT5'], dtype=object),\n",
       " 0.0: array(['S&P: indust', 'RPI', 'EXJPUSx', 'INVEST', 'AMDMUOx', 'HOUSTW',\n",
       "        'RETAILx', 'CUSR0000SAS', 'ACOGNO'], dtype=object),\n",
       " 3.0: array(['EXJPUSx', 'AMDMUOx', 'S&P: indust', 'UMCSENTx', 'UEMP27OV',\n",
       "        'RETAILx', 'CUSR0000SAS', 'UEMPLT5'], dtype=object),\n",
       " 5.0: array(['SPY'], dtype=object)}"
      ]
     },
     "execution_count": 21,
     "metadata": {},
     "output_type": "execute_result"
    }
   ],
   "source": [
    "cluster_variables"
   ]
  },
  {
   "cell_type": "code",
   "execution_count": null,
   "metadata": {},
   "outputs": [],
   "source": []
  }
 ],
 "metadata": {
  "kernelspec": {
   "display_name": "cml-fin",
   "language": "python",
   "name": "python3"
  },
  "language_info": {
   "codemirror_mode": {
    "name": "ipython",
    "version": 3
   },
   "file_extension": ".py",
   "mimetype": "text/x-python",
   "name": "python",
   "nbconvert_exporter": "python",
   "pygments_lexer": "ipython3",
   "version": "3.7.0"
  }
 },
 "nbformat": 4,
 "nbformat_minor": 2
}
