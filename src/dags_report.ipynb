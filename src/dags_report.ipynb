{
 "cells": [
  {
   "cell_type": "code",
   "execution_count": 26,
   "metadata": {},
   "outputs": [],
   "source": [
    "import pandas as pd\n",
    "import os\n",
    "import glob\n",
    "from lingam.utils import make_dot\n",
    "import matplotlib.pyplot as plt\n",
    "import numpy as np\n",
    "\n",
    "from utils.conn_data import load_pickle"
   ]
  },
  {
   "cell_type": "code",
   "execution_count": 27,
   "metadata": {},
   "outputs": [],
   "source": [
    "outputs_path = os.path.join(os.path.dirname(os.getcwd()), \"src\", \"data\", \"outputs\")\n",
    "des = pd.read_csv(os.path.join(os.getcwd(), 'data', 'utils', 'fredmd_description.csv'), sep=';')\n",
    "\n",
    "fs = \"var-lingam\"\n",
    "etf = \"SPY\""
   ]
  },
  {
   "cell_type": "code",
   "execution_count": 28,
   "metadata": {},
   "outputs": [],
   "source": [
    "results_files = glob.glob(os.path.join(outputs_path, fs, \"etfs_macro_large\", \"*.pickle\"))\n",
    "\n",
    "for file in results_files:\n",
    "    if etf in file:\n",
    "        obj = load_pickle(path=file)\n",
    "        break\n",
    "    \n",
    "obj = load_pickle(path=file)"
   ]
  },
  {
   "cell_type": "code",
   "execution_count": 29,
   "metadata": {},
   "outputs": [
    {
     "data": {
      "text/plain": [
       "dict_keys(['predictions', 'parents_of_target', 'dags', 'args'])"
      ]
     },
     "execution_count": 29,
     "metadata": {},
     "output_type": "execute_result"
    }
   ],
   "source": [
    "obj.keys()"
   ]
  },
  {
   "cell_type": "code",
   "execution_count": 32,
   "metadata": {},
   "outputs": [
    {
     "data": {
      "text/plain": [
       "['20031231',\n",
       " '20040131',\n",
       " '20040229',\n",
       " '20040331',\n",
       " '20040430',\n",
       " '20040531',\n",
       " '20040630',\n",
       " '20040731',\n",
       " '20040831',\n",
       " '20040930']"
      ]
     },
     "execution_count": 32,
     "metadata": {},
     "output_type": "execute_result"
    }
   ],
   "source": [
    "list(obj[\"dags\"].keys())[:10]"
   ]
  },
  {
   "cell_type": "code",
   "execution_count": 33,
   "metadata": {},
   "outputs": [],
   "source": [
    "# Great Financial Crisis fo 2007-2008\n",
    "gfc = obj[\"dags\"][\"20080930\"]\n",
    "\n",
    "# Covid Crisis of 2020\n",
    "covid = obj[\"dags\"][\"20200331\"]"
   ]
  },
  {
   "cell_type": "code",
   "execution_count": 36,
   "metadata": {},
   "outputs": [
    {
     "ename": "AttributeError",
     "evalue": "'numpy.ndarray' object has no attribute 'columns'",
     "output_type": "error",
     "traceback": [
      "\u001b[0;31m---------------------------------------------------------------------------\u001b[0m",
      "\u001b[0;31mAttributeError\u001b[0m                            Traceback (most recent call last)",
      "\u001b[1;32m/Users/danieloliveira/Documents/Daniel/codes/cml-fin/src/dags_report.ipynb Cell 7\u001b[0m line \u001b[0;36m6\n\u001b[1;32m      <a href='vscode-notebook-cell:/Users/danieloliveira/Documents/Daniel/codes/cml-fin/src/dags_report.ipynb#X10sZmlsZQ%3D%3D?line=3'>4</a>\u001b[0m labels \u001b[39m=\u001b[39m []\n\u001b[1;32m      <a href='vscode-notebook-cell:/Users/danieloliveira/Documents/Daniel/codes/cml-fin/src/dags_report.ipynb#X10sZmlsZQ%3D%3D?line=4'>5</a>\u001b[0m \u001b[39mfor\u001b[39;00m i \u001b[39min\u001b[39;00m \u001b[39mrange\u001b[39m(p\u001b[39m+\u001b[39m\u001b[39m1\u001b[39m):\n\u001b[0;32m----> <a href='vscode-notebook-cell:/Users/danieloliveira/Documents/Daniel/codes/cml-fin/src/dags_report.ipynb#X10sZmlsZQ%3D%3D?line=5'>6</a>\u001b[0m     \u001b[39mfor\u001b[39;00m colname \u001b[39min\u001b[39;00m X0\u001b[39m.\u001b[39;49mcolumns:\n\u001b[1;32m      <a href='vscode-notebook-cell:/Users/danieloliveira/Documents/Daniel/codes/cml-fin/src/dags_report.ipynb#X10sZmlsZQ%3D%3D?line=6'>7</a>\u001b[0m         \u001b[39mif\u001b[39;00m i \u001b[39m==\u001b[39m \u001b[39m0\u001b[39m:\n\u001b[1;32m      <a href='vscode-notebook-cell:/Users/danieloliveira/Documents/Daniel/codes/cml-fin/src/dags_report.ipynb#X10sZmlsZQ%3D%3D?line=7'>8</a>\u001b[0m             labels\u001b[39m.\u001b[39mappend(\u001b[39m\"\u001b[39m\u001b[39m{}\u001b[39;00m\u001b[39m(t)\u001b[39m\u001b[39m\"\u001b[39m\u001b[39m.\u001b[39mformat(colname, i))\n",
      "\u001b[0;31mAttributeError\u001b[0m: 'numpy.ndarray' object has no attribute 'columns'"
     ]
    }
   ],
   "source": [
    "p, k = gfc[\"dag\"].shape[0] - 1, gfc[\"dag\"].shape[1]\n",
    "X0 = pd.DataFrame(gfc[\"dag\"][0], columns=gfc[\"labels\"][\"labels0\"])\n",
    "\n",
    "make_dot(np.hstack(gfc[\"dag\"]), ignore_shape=True, lower_limit=gfc[\"threshold\"], labels=gfc[\"labels\"][\"labels0\"])"
   ]
  },
  {
   "cell_type": "code",
   "execution_count": null,
   "metadata": {},
   "outputs": [],
   "source": [
    "p, k = covid[\"dag\"].shape[0] - 1, covid[\"dag\"].shape[1]\n",
    "X0 = pd.DataFrame(covid[\"dag\"][0], columns=covid[\"labels\"][\"labels0\"])\n",
    "\n",
    "make_dot(np.hstack(covid[\"dag\"]), ignore_shape=True, lower_limit=covid[\"threshold\"], labels=covid[\"labels\"][\"labels0\"])"
   ]
  }
 ],
 "metadata": {
  "kernelspec": {
   "display_name": "cml-fin",
   "language": "python",
   "name": "python3"
  },
  "language_info": {
   "codemirror_mode": {
    "name": "ipython",
    "version": 3
   },
   "file_extension": ".py",
   "mimetype": "text/x-python",
   "name": "python",
   "nbconvert_exporter": "python",
   "pygments_lexer": "ipython3",
   "version": "3.10.0"
  }
 },
 "nbformat": 4,
 "nbformat_minor": 2
}
