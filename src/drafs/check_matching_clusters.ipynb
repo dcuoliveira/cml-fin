{
 "cells": [
  {
   "cell_type": "code",
   "execution_count": 1,
   "metadata": {},
   "outputs": [],
   "source": [
    "import os\n",
    "import pandas as pd\n",
    "import glob\n",
    "import matplotlib.pyplot as plt\n",
    "import seaborn as sns\n",
    "import warnings\n",
    "import numpy as np\n",
    "\n",
    "from utils.conn_data import load_pickle\n",
    "\n",
    "warnings.filterwarnings('ignore')\n",
    "\n",
    "plt.style.use('ggplot')"
   ]
  },
  {
   "cell_type": "code",
   "execution_count": 2,
   "metadata": {},
   "outputs": [],
   "source": [
    "outputs_path = os.path.join(os.path.dirname(os.getcwd()), \"src\", \"data\", \"outputs\")\n",
    "des = pd.read_csv(os.path.join(os.path.dirname(os.getcwd()), \"src\", 'data', 'utils', 'fredmd_description.csv'), sep=';')\n",
    "\n",
    "lasso_methods = [\n",
    "    \"lasso1_nocluster\",\n",
    "    \"lasso2_nocluster\",\n",
    "]\n",
    "varlingam_methods = [\n",
    "    \"var-lingam_rollingkmeans_k5_pca\", \"var-lingam_rollingspectral_k5_pca\",\n",
    "    \"var-lingam_rollingkmeans_k5_rank\", \"var-lingam_rollingspectral_k5_rank\",\n",
    "    \"var-lingam_rollingkmeans_k10_pca\", \"var-lingam_rollingspectral_k10_pca\",\n",
    "    \"var-lingam_rollingkmeans_k10_rank\", \"var-lingam_rollingspectral_k10_rank\",\n",
    "    \"var-lingam_rollingspectral_kauto_eigen_rank\", \"var-lingam_rollingkmeans_kauto_eigen_rank\"\n",
    "]\n",
    "pairwisegranger_methods = [\n",
    "    \"pairwise-granger_rollingkmeans_k5_pca\", \"pairwise-granger_rollingspectral_k5_pca\",\n",
    "    \"pairwise-granger_rollingkmeans_k5_rank\", \"pairwise-granger_rollingspectral_k5_rank\",\n",
    "    \"pairwise-granger_rollingkmeans_k10_pca\", \"pairwise-granger_rollingspectral_k10_pca\",\n",
    "    \"pairwise-granger_rollingkmeans_k10_rank\", \"pairwise-granger_rollingspectral_k10_rank\",\n",
    "    \"pairwise-granger_rollingspectral_kauto_eigen_rank\", \"pairwise-granger_rollingkmeans_kauto_eigen_rank\"\n",
    "]\n",
    "mulivariategranger_methods = [\n",
    "    \"multivariate-granger_rollingkmeans_k5_pca\", \"multivariate-granger_rollingspectral_k5_pca\",\n",
    "    \"multivariate-granger_rollingkmeans_k5_rank\", \"multivariate-granger_rollingspectral_k5_rank\",\n",
    "    \"multivariate-granger_rollingkmeans_k10_pca\", \"multivariate-granger_rollingspectral_k10_pca\",\n",
    "    \"multivariate-granger_rollingkmeans_k10_rank\", \"multivariate-granger_rollingspectral_k10_rank\",\n",
    "    \"multivariate-granger_rollingspectral_kauto_eigen_rank\", \"multivariate-granger_rollingkmeans_kauto_eigen_rank\"\n",
    "]\n",
    "dynotears_methods = [\n",
    "        \"dynotears_rollingkmeans_k5_pca\", \"dynotears_rollingspectral_k5_pca\", \n",
    "        \"dynotears_rollingkmeans_k5_rank\", \"dynotears_rollingspectral_k5_rank\",\n",
    "        \"dynotears_rollingkmeans_k10_pca\", \"dynotears_rollingspectral_k10_pca\", \n",
    "        \"dynotears_rollingkmeans_k10_rank\", \"dynotears_rollingspectral_k10_rank\",\n",
    "        \"dynotears_rollingspectral_kauto_eigen_rank\",\n",
    "]\n",
    "\n",
    "fs_methods = lasso_methods + dynotears_methods\n",
    "metric_names = [\"stability\", \"mse\", \"mae\"]\n",
    "etf_focus = None\n",
    "stability_threshold = 0.8\n",
    "plot_ts = False"
   ]
  },
  {
   "cell_type": "code",
   "execution_count": 3,
   "metadata": {},
   "outputs": [],
   "source": [
    "all_parents = []\n",
    "for fs in fs_methods:\n",
    "    results_files = glob.glob(os.path.join(outputs_path, fs, \"etfs_macro_large\", \"*.pickle\"))\n",
    "\n",
    "    for file in results_files:\n",
    "        etf = file.split(fs)[-1].split(\"/\")[-1].split(\"_\")[0]\n",
    "        obj = load_pickle(path=file)\n",
    "        parents_of_target_df = obj[\"parents_of_target\"]\n",
    "\n",
    "        # add tags\n",
    "        parents_of_target_df[\"etf\"] = etf\n",
    "        parents_of_target_df[\"fs\"] = fs\n",
    "\n",
    "        # fill na of clusters column\n",
    "        if (fs == \"lasso1_nocluster\") or (fs == \"pairwise-granger_nocluster\") or (fs == \"multivariate-granger_nocluster\"):\n",
    "            parents_of_target_df['cluster'] = pd.factorize(parents_of_target_df['fred'])[0]\n",
    "        else:\n",
    "            parents_of_target_df[\"cluster\"] = parents_of_target_df[\"cluster\"].fillna(parents_of_target_df[\"cluster\"].max() + 1)\n",
    "\n",
    "        all_parents.append(parents_of_target_df)\n",
    "all_parents_df = pd.concat(all_parents)"
   ]
  },
  {
   "cell_type": "code",
   "execution_count": 9,
   "metadata": {},
   "outputs": [],
   "source": [
    "etf = \"SPY\"\n",
    "fs = \"dynotears_rollingkmeans_k5_rank\"\n",
    "\n",
    "check_df = all_parents_df.loc[(all_parents_df['etf'] == etf)&(all_parents_df['fs'] == fs)].drop([\"etf\", \"fs\"], axis=1)\n",
    "check_df[\"date\"] = [pd.to_datetime(dtref).strftime('%Y-%m-%d') for dtref in check_df[\"date\"]]\n",
    "\n",
    "cluster_variables = {}\n",
    "for cluster in check_df[\"cluster\"].unique():\n",
    "    cluster_variables[cluster] = check_df.loc[check_df[\"cluster\"] == cluster][\"fred\"].unique()"
   ]
  },
  {
   "cell_type": "code",
   "execution_count": 11,
   "metadata": {},
   "outputs": [
    {
     "data": {
      "text/plain": [
       "{4.0: array(['RPI', 'AMDMUOx', 'UEMP27OV', 'UEMPLT5'], dtype=object),\n",
       " 1.0: array(['S&P: indust', 'IPCONGD', 'CMRMTSPLx', 'UMCSENTx'], dtype=object),\n",
       " 2.0: array(['EXJPUSx', 'INVEST', 'S&P: indust'], dtype=object),\n",
       " 5.0: array(['SPY'], dtype=object),\n",
       " 3.0: array(['HOUSTW', 'AMDMUOx', 'IPNMAT', 'CUSR0000SAS'], dtype=object),\n",
       " 0.0: array(['PPICMM', 'RETAILx', 'ACOGNO'], dtype=object)}"
      ]
     },
     "execution_count": 11,
     "metadata": {},
     "output_type": "execute_result"
    }
   ],
   "source": [
    "cluster_variables"
   ]
  },
  {
   "cell_type": "code",
   "execution_count": 14,
   "metadata": {},
   "outputs": [
    {
     "name": "stdout",
     "output_type": "stream",
     "text": [
      "Cluster 4.0 vs Cluster 3.0\n",
      "Common variables: {'AMDMUOx'}\n",
      "\n",
      "\n",
      "Cluster 1.0 vs Cluster 2.0\n",
      "Common variables: {'S&P: indust'}\n",
      "\n",
      "\n"
     ]
    }
   ],
   "source": [
    "for i, cluster1 in enumerate(cluster_variables.keys()):\n",
    "    for j, cluster2 in enumerate(cluster_variables.keys()):\n",
    "        inter = set(cluster_variables[cluster1]).intersection(cluster_variables[cluster2])\n",
    "        if (i < j) and (len(inter) > 0):\n",
    "            print(f\"Cluster {cluster1} vs Cluster {cluster2}\")\n",
    "            print(f\"Common variables: {set(cluster_variables[cluster1]).intersection(cluster_variables[cluster2])}\")\n",
    "            print(\"\\n\")\n",
    "        else:\n",
    "            continue"
   ]
  },
  {
   "cell_type": "code",
   "execution_count": null,
   "metadata": {},
   "outputs": [],
   "source": []
  }
 ],
 "metadata": {
  "kernelspec": {
   "display_name": "cml-fin",
   "language": "python",
   "name": "python3"
  },
  "language_info": {
   "codemirror_mode": {
    "name": "ipython",
    "version": 3
   },
   "file_extension": ".py",
   "mimetype": "text/x-python",
   "name": "python",
   "nbconvert_exporter": "python",
   "pygments_lexer": "ipython3",
   "version": "3.7.0"
  }
 },
 "nbformat": 4,
 "nbformat_minor": 2
}
