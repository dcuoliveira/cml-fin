{
 "cells": [
  {
   "cell_type": "code",
   "execution_count": 1,
   "metadata": {},
   "outputs": [],
   "source": [
    "import os\n",
    "import pandas as pd\n",
    "import matplotlib.pyplot as plt\n",
    "import numpy as np\n",
    "\n",
    "plt.style.use('ggplot')"
   ]
  },
  {
   "cell_type": "code",
   "execution_count": 47,
   "metadata": {},
   "outputs": [],
   "source": [
    "def compute_rolling_percentiles(returns_data, window=24):\n",
    "    \"\"\"\n",
    "    Compute rolling percentiles of ETF returns relative to their past values.\n",
    "\n",
    "    Parameters:\n",
    "    - returns_data: A pandas DataFrame with ETF return data, indexed by date.\n",
    "    - window: The number of past observations to include in the rolling window.\n",
    "\n",
    "    Returns:\n",
    "    - percentiles: A pandas DataFrame of the same shape as returns_data containing the rolling percentiles.\n",
    "    \"\"\"\n",
    "    # Function to compute the percentile of the last value in the window\n",
    "    def percentile_of_last(x):\n",
    "        if len(x) < window:\n",
    "            # If there are fewer than 'window' elements, return NaN\n",
    "            return np.nan\n",
    "        else:\n",
    "            # Compute the percentile of the last value relative to the others\n",
    "            return (np.sum(x[-1] > x[:-1]) / len(x[:-1])) * 100\n",
    "\n",
    "    # Apply the percentile_of_last function over a rolling window for each ETF\n",
    "    percentiles = returns_data.rolling(window=window + 1).apply(percentile_of_last, raw=True)\n",
    "\n",
    "    return percentiles"
   ]
  },
  {
   "cell_type": "code",
   "execution_count": 26,
   "metadata": {},
   "outputs": [
    {
     "data": {
      "text/html": [
       "<div>\n",
       "<style scoped>\n",
       "    .dataframe tbody tr th:only-of-type {\n",
       "        vertical-align: middle;\n",
       "    }\n",
       "\n",
       "    .dataframe tbody tr th {\n",
       "        vertical-align: top;\n",
       "    }\n",
       "\n",
       "    .dataframe thead th {\n",
       "        text-align: right;\n",
       "    }\n",
       "</style>\n",
       "<table border=\"1\" class=\"dataframe\">\n",
       "  <thead>\n",
       "    <tr style=\"text-align: right;\">\n",
       "      <th></th>\n",
       "      <th>SPY</th>\n",
       "      <th>XLB</th>\n",
       "      <th>XLE</th>\n",
       "      <th>XLF</th>\n",
       "      <th>XLI</th>\n",
       "      <th>XLK</th>\n",
       "      <th>XLP</th>\n",
       "      <th>XLU</th>\n",
       "      <th>XLV</th>\n",
       "      <th>XLY</th>\n",
       "    </tr>\n",
       "    <tr>\n",
       "      <th>date</th>\n",
       "      <th></th>\n",
       "      <th></th>\n",
       "      <th></th>\n",
       "      <th></th>\n",
       "      <th></th>\n",
       "      <th></th>\n",
       "      <th></th>\n",
       "      <th></th>\n",
       "      <th></th>\n",
       "      <th></th>\n",
       "    </tr>\n",
       "  </thead>\n",
       "  <tbody>\n",
       "    <tr>\n",
       "      <th>2022-07-29</th>\n",
       "      <td>0.088091</td>\n",
       "      <td>0.059729</td>\n",
       "      <td>0.092242</td>\n",
       "      <td>0.069395</td>\n",
       "      <td>0.090783</td>\n",
       "      <td>0.126209</td>\n",
       "      <td>0.031502</td>\n",
       "      <td>0.053038</td>\n",
       "      <td>0.031924</td>\n",
       "      <td>0.169229</td>\n",
       "    </tr>\n",
       "    <tr>\n",
       "      <th>2022-08-31</th>\n",
       "      <td>-0.041658</td>\n",
       "      <td>-0.035434</td>\n",
       "      <td>0.026178</td>\n",
       "      <td>-0.019773</td>\n",
       "      <td>-0.028744</td>\n",
       "      <td>-0.064141</td>\n",
       "      <td>-0.018700</td>\n",
       "      <td>0.005260</td>\n",
       "      <td>-0.059436</td>\n",
       "      <td>-0.045997</td>\n",
       "    </tr>\n",
       "    <tr>\n",
       "      <th>2022-09-30</th>\n",
       "      <td>-0.096642</td>\n",
       "      <td>-0.097277</td>\n",
       "      <td>-0.099631</td>\n",
       "      <td>-0.079228</td>\n",
       "      <td>-0.109818</td>\n",
       "      <td>-0.127263</td>\n",
       "      <td>-0.084433</td>\n",
       "      <td>-0.118822</td>\n",
       "      <td>-0.025525</td>\n",
       "      <td>-0.085404</td>\n",
       "    </tr>\n",
       "    <tr>\n",
       "      <th>2022-10-31</th>\n",
       "      <td>0.078142</td>\n",
       "      <td>0.085491</td>\n",
       "      <td>0.222866</td>\n",
       "      <td>0.112646</td>\n",
       "      <td>0.130101</td>\n",
       "      <td>0.073741</td>\n",
       "      <td>0.086236</td>\n",
       "      <td>0.019200</td>\n",
       "      <td>0.091768</td>\n",
       "      <td>0.011031</td>\n",
       "    </tr>\n",
       "    <tr>\n",
       "      <th>2022-11-30</th>\n",
       "      <td>0.054102</td>\n",
       "      <td>0.110679</td>\n",
       "      <td>0.012697</td>\n",
       "      <td>0.066321</td>\n",
       "      <td>0.075212</td>\n",
       "      <td>0.061346</td>\n",
       "      <td>0.059379</td>\n",
       "      <td>0.067315</td>\n",
       "      <td>0.046150</td>\n",
       "      <td>0.014749</td>\n",
       "    </tr>\n",
       "  </tbody>\n",
       "</table>\n",
       "</div>"
      ],
      "text/plain": [
       "                 SPY       XLB       XLE       XLF       XLI       XLK  \\\n",
       "date                                                                     \n",
       "2022-07-29  0.088091  0.059729  0.092242  0.069395  0.090783  0.126209   \n",
       "2022-08-31 -0.041658 -0.035434  0.026178 -0.019773 -0.028744 -0.064141   \n",
       "2022-09-30 -0.096642 -0.097277 -0.099631 -0.079228 -0.109818 -0.127263   \n",
       "2022-10-31  0.078142  0.085491  0.222866  0.112646  0.130101  0.073741   \n",
       "2022-11-30  0.054102  0.110679  0.012697  0.066321  0.075212  0.061346   \n",
       "\n",
       "                 XLP       XLU       XLV       XLY  \n",
       "date                                                \n",
       "2022-07-29  0.031502  0.053038  0.031924  0.169229  \n",
       "2022-08-31 -0.018700  0.005260 -0.059436 -0.045997  \n",
       "2022-09-30 -0.084433 -0.118822 -0.025525 -0.085404  \n",
       "2022-10-31  0.086236  0.019200  0.091768  0.011031  \n",
       "2022-11-30  0.059379  0.067315  0.046150  0.014749  "
      ]
     },
     "execution_count": 26,
     "metadata": {},
     "output_type": "execute_result"
    }
   ],
   "source": [
    "etfs_data = pd.read_csv(os.path.join(os.path.dirname(os.getcwd()), \"data\", \"inputs\", \"wrds_etf_returns.csv\"))\n",
    "\n",
    "etfs_data[\"date\"] = pd.to_datetime(etfs_data[\"date\"])\n",
    "etfs_data.set_index(\"date\", inplace=True)\n",
    "\n",
    "# # compute log returns\n",
    "# returns_data = np.log(etfs_data).diff(22)\n",
    "returns_data = etfs_data.copy()\n",
    "returns_data = returns_data[[col for col in returns_data.columns if \"t+1\" not in col]]\n",
    "\n",
    "returns_data.tail()"
   ]
  },
  {
   "cell_type": "code",
   "execution_count": 52,
   "metadata": {},
   "outputs": [
    {
     "name": "stderr",
     "output_type": "stream",
     "text": [
      "/Users/danieloliveira/opt/anaconda3/envs/cml-fin/lib/python3.7/site-packages/pandas/core/indexes/base.py:4024: RuntimeWarning: '<' not supported between instances of 'int' and 'Timestamp', sort order is undefined for incomparable objects\n",
      "  join_index = self.union(other)\n"
     ]
    }
   ],
   "source": [
    "# compute volatility\n",
    "volatility = (returns_data.rolling(6).std() * np.sqrt(12) * 100)\n",
    "\n",
    "# compute drawdown\n",
    "cummulative_portfolio_returns = np.exp(returns_data.cumsum())\n",
    "rolling_max = cummulative_portfolio_returns.cummax()\n",
    "\n",
    "rolling_max.loc[0, :] = 1.0\n",
    "\n",
    "drawdown = (cummulative_portfolio_returns - rolling_max) / rolling_max\n",
    "\n",
    "drawdown = drawdown.dropna()\n",
    "drawdown.index = pd.to_datetime(drawdown.index)\n",
    "\n",
    "# compute rolling percentiles of volatility and drawdown\n",
    "volatility_percentiles = compute_rolling_percentiles(volatility, window=24)\n",
    "drawdown_percentiles = compute_rolling_percentiles(drawdown, window=24)\n",
    "\n",
    "# smooth percentiles\n",
    "volatility_percentiles_smooth = volatility_percentiles.rolling(3).mean()\n",
    "drawdown_percentiles_smooth = drawdown_percentiles.rolling(3).mean()"
   ]
  },
  {
   "cell_type": "code",
   "execution_count": 55,
   "metadata": {},
   "outputs": [
    {
     "data": {
      "text/plain": [
       "<AxesSubplot:xlabel='date'>"
      ]
     },
     "execution_count": 55,
     "metadata": {},
     "output_type": "execute_result"
    },
    {
     "data": {
      "image/png": "[encoded data removed]",
      "text/plain": [
       "<Figure size 640x480 with 1 Axes>"
      ]
     },
     "metadata": {},
     "output_type": "display_data"
    }
   ],
   "source": [
    "drawdown_percentiles_smooth[[\"SPY\"]].plot()"
   ]
  },
  {
   "cell_type": "code",
   "execution_count": null,
   "metadata": {},
   "outputs": [],
   "source": []
  }
 ],
 "metadata": {
  "kernelspec": {
   "display_name": "cml-fin",
   "language": "python",
   "name": "python3"
  },
  "language_info": {
   "codemirror_mode": {
    "name": "ipython",
    "version": 3
   },
   "file_extension": ".py",
   "mimetype": "text/x-python",
   "name": "python",
   "nbconvert_exporter": "python",
   "pygments_lexer": "ipython3",
   "version": "3.7.0"
  }
 },
 "nbformat": 4,
 "nbformat_minor": 2
}
