{
 "cells": [
  {
   "cell_type": "code",
   "execution_count": 2,
   "metadata": {},
   "outputs": [],
   "source": [
    "import pandas as pd\n",
    "\n",
    "from sklearn.model_selection import TimeSeriesSplit\n",
    "from sklearn.feature_selection import SequentialFeatureSelector\n",
    "from sklearn.linear_model import LinearRegression"
   ]
  },
  {
   "cell_type": "code",
   "execution_count": 3,
   "metadata": {},
   "outputs": [],
   "source": [
    "class LinearRegressionWrapper():\n",
    "    def __init__(self, model_params={'fit_intercept': False}):\n",
    "\n",
    "        self.model_name = \"linear_regression\"\n",
    "        self.search_type = 'grid'\n",
    "        self.param_grid = {'fit_intercept': [True, False]}\n",
    "        if model_params is None:\n",
    "            self.ModelClass = LinearRegression()\n",
    "        else:\n",
    "            self.ModelClass = LinearRegression(**model_params)"
   ]
  },
  {
   "cell_type": "code",
   "execution_count": 4,
   "metadata": {},
   "outputs": [
    {
     "data": {
      "text/html": [
       "<div>\n",
       "<style scoped>\n",
       "    .dataframe tbody tr th:only-of-type {\n",
       "        vertical-align: middle;\n",
       "    }\n",
       "\n",
       "    .dataframe tbody tr th {\n",
       "        vertical-align: top;\n",
       "    }\n",
       "\n",
       "    .dataframe thead th {\n",
       "        text-align: right;\n",
       "    }\n",
       "</style>\n",
       "<table border=\"1\" class=\"dataframe\">\n",
       "  <thead>\n",
       "    <tr style=\"text-align: right;\">\n",
       "      <th></th>\n",
       "      <th>SPY</th>\n",
       "      <th>RPI</th>\n",
       "      <th>S&amp;P: indust</th>\n",
       "      <th>HOUSTW</th>\n",
       "      <th>EXJPUSx</th>\n",
       "      <th>WPSID62</th>\n",
       "    </tr>\n",
       "    <tr>\n",
       "      <th>date</th>\n",
       "      <th></th>\n",
       "      <th></th>\n",
       "      <th></th>\n",
       "      <th></th>\n",
       "      <th></th>\n",
       "      <th></th>\n",
       "    </tr>\n",
       "  </thead>\n",
       "  <tbody>\n",
       "    <tr>\n",
       "      <th>2003-08-31</th>\n",
       "      <td>0.020416</td>\n",
       "      <td>0.001636</td>\n",
       "      <td>0.001452</td>\n",
       "      <td>6.063785</td>\n",
       "      <td>-0.000282</td>\n",
       "      <td>-0.008375</td>\n",
       "    </tr>\n",
       "    <tr>\n",
       "      <th>2003-09-30</th>\n",
       "      <td>-0.010803</td>\n",
       "      <td>0.001476</td>\n",
       "      <td>0.033748</td>\n",
       "      <td>6.113682</td>\n",
       "      <td>-0.033091</td>\n",
       "      <td>0.027151</td>\n",
       "    </tr>\n",
       "    <tr>\n",
       "      <th>2003-10-31</th>\n",
       "      <td>0.052144</td>\n",
       "      <td>0.005737</td>\n",
       "      <td>0.011946</td>\n",
       "      <td>6.317165</td>\n",
       "      <td>-0.002906</td>\n",
       "      <td>-0.002173</td>\n",
       "    </tr>\n",
       "    <tr>\n",
       "      <th>2003-11-30</th>\n",
       "      <td>0.010862</td>\n",
       "      <td>0.005737</td>\n",
       "      <td>0.011946</td>\n",
       "      <td>6.317165</td>\n",
       "      <td>-0.002906</td>\n",
       "      <td>-0.002173</td>\n",
       "    </tr>\n",
       "    <tr>\n",
       "      <th>2003-12-31</th>\n",
       "      <td>0.048997</td>\n",
       "      <td>0.000350</td>\n",
       "      <td>0.031326</td>\n",
       "      <td>6.253829</td>\n",
       "      <td>-0.013278</td>\n",
       "      <td>0.032111</td>\n",
       "    </tr>\n",
       "  </tbody>\n",
       "</table>\n",
       "</div>"
      ],
      "text/plain": [
       "                 SPY       RPI  S&P: indust    HOUSTW   EXJPUSx   WPSID62\n",
       "date                                                                     \n",
       "2003-08-31  0.020416  0.001636     0.001452  6.063785 -0.000282 -0.008375\n",
       "2003-09-30 -0.010803  0.001476     0.033748  6.113682 -0.033091  0.027151\n",
       "2003-10-31  0.052144  0.005737     0.011946  6.317165 -0.002906 -0.002173\n",
       "2003-11-30  0.010862  0.005737     0.011946  6.317165 -0.002906 -0.002173\n",
       "2003-12-31  0.048997  0.000350     0.031326  6.253829 -0.013278  0.032111"
      ]
     },
     "execution_count": 4,
     "metadata": {},
     "output_type": "execute_result"
    }
   ],
   "source": [
    "train_df = pd.read_csv('train_data.csv')\n",
    "train_df.set_index(\"date\", inplace=True)\n",
    "\n",
    "train_df.tail()"
   ]
  },
  {
   "cell_type": "code",
   "execution_count": 5,
   "metadata": {},
   "outputs": [
    {
     "data": {
      "text/plain": [
       "(48, 6)"
      ]
     },
     "execution_count": 5,
     "metadata": {},
     "output_type": "execute_result"
    }
   ],
   "source": [
    "train_df.shape"
   ]
  },
  {
   "cell_type": "code",
   "execution_count": 16,
   "metadata": {},
   "outputs": [],
   "source": [
    "target = \"SPY\"\n",
    "k = 5\n",
    "scoring = \"neg_mean_squared_error\"\n",
    "model_wrapper = LinearRegressionWrapper(model_params={'fit_intercept': False})\n",
    "\n",
    "y = train_df[target]\n",
    "X = train_df.drop(columns=[target])\n",
    "forecast_model = model_wrapper.ModelClass"
   ]
  },
  {
   "cell_type": "code",
   "execution_count": 21,
   "metadata": {},
   "outputs": [
    {
     "name": "stdout",
     "output_type": "stream",
     "text": [
      "Selected features: Index(['RPI', 'S&P: indust'], dtype='object')\n"
     ]
    }
   ],
   "source": [
    "sfs_cv = SequentialFeatureSelector(forecast_model, scoring=scoring)\n",
    "sfs_cv.fit(X, y)\n",
    "\n",
    "selected_features = sfs_cv.get_support(indices=True)\n",
    "print(f\"Selected features: {X.columns[selected_features]}\")"
   ]
  },
  {
   "cell_type": "code",
   "execution_count": 23,
   "metadata": {},
   "outputs": [],
   "source": [
    "tscv = TimeSeriesSplit(n_splits=k)\n",
    "sfs_tscv = SequentialFeatureSelector(forecast_model, cv=tscv, scoring=scoring)\n",
    "fit = sfs_tscv.fit(X, y)\n",
    "\n",
    "selected_features = sfs_tscv.get_support(indices=True)"
   ]
  },
  {
   "cell_type": "code",
   "execution_count": null,
   "metadata": {},
   "outputs": [],
   "source": []
  }
 ],
 "metadata": {
  "kernelspec": {
   "display_name": "Python 3",
   "language": "python",
   "name": "python3"
  },
  "language_info": {
   "codemirror_mode": {
    "name": "ipython",
    "version": 3
   },
   "file_extension": ".py",
   "mimetype": "text/x-python",
   "name": "python",
   "nbconvert_exporter": "python",
   "pygments_lexer": "ipython3",
   "version": "3.7.0"
  }
 },
 "nbformat": 4,
 "nbformat_minor": 2
}
