{
 "cells": [
  {
   "cell_type": "code",
   "execution_count": 1,
   "metadata": {},
   "outputs": [
    {
     "name": "stderr",
     "output_type": "stream",
     "text": [
      "/Users/danieloliveira/opt/anaconda3/envs/new_environment/lib/python3.7/site-packages/rpy2/robjects/pandas2ri.py:17: FutureWarning: pandas.core.index is deprecated and will be removed in a future version.  The public classes are available in the top-level namespace.\n",
      "  from pandas.core.index import Index as PandasIndex\n"
     ]
    }
   ],
   "source": [
    "import rpy2.robjects as robjects\n",
    "from rpy2.robjects import pandas2ri\n",
    "from rpy2.robjects import numpy2ri\n",
    "\n",
    "import pandas as pd\n",
    "import numpy as np\n",
    "\n",
    "pandas2ri.activate()"
   ]
  },
  {
   "cell_type": "code",
   "execution_count": 8,
   "metadata": {},
   "outputs": [
    {
     "name": "stdout",
     "output_type": "stream",
     "text": [
      "\n",
      " Invariant Linear Causal Regression at level 0.05\n",
      "\n",
      " Variables X1, X3 show a significant causal effect\n",
      "\n",
      " \n",
      " \n",
      "         \n",
      " coefficient\n",
      " lower bound\n",
      " upper bound\n",
      "  p-value\n",
      "  \n",
      "\n",
      "intercept\n",
      "       -0.01\n",
      "     -0.0430\n",
      "      0.0286\n",
      "       NA\n",
      "  \n",
      "\n",
      "X1       \n",
      "       -0.73\n",
      "     -0.7870\n",
      "     -0.5064\n",
      "     0.02\n",
      " *\n",
      "\n",
      "X2       \n",
      "        0.00\n",
      "      0.0000\n",
      "      0.0000\n",
      "     0.53\n",
      "  \n",
      "\n",
      "X3       \n",
      "        0.60\n",
      "      0.5600\n",
      "      0.7210\n",
      "     0.02\n",
      " *\n",
      "\n",
      "\n",
      "---\n",
      "Signif. codes:  \n",
      "\n",
      "0 ‘***’ 0.001 ‘**’ 0.01 ‘*’ 0.05 ‘.’ 0.1 ‘ ’ 1\n",
      "\n",
      "\n",
      "\n",
      "\n",
      "\n",
      "\n"
     ]
    }
   ],
   "source": [
    "np.random.seed(1)\n",
    "\n",
    "# environment 1\n",
    "na = 140\n",
    "X1a = 0.3 * np.random.randn(na)\n",
    "X3a = X1a + 0.2 * np.random.randn(na)\n",
    "Ya = -.7 * X1a + .6 * X3a + 0.1 * np.random.randn(na)\n",
    "X2a = -0.5 * Ya + 0.5 * X3a + 0.1 * np.random.randn(na)\n",
    "\n",
    "# environment 2\n",
    "nb = 80\n",
    "X1b = 0.3 * np.random.randn(nb)\n",
    "X3b = 0.5 * np.random.randn(nb)\n",
    "Yb = -.7 * X1b + .6 * X3b + 0.1 * np.random.randn(nb)\n",
    "X2b = -0.5 * Yb + 0.5 * X3b + 0.1 * np.random.randn(nb)\n",
    "\n",
    "# Combine environments\n",
    "X1 = np.concatenate((X1a, X1b))\n",
    "X2 = np.concatenate((X2a, X2b))\n",
    "X3 = np.concatenate((X3a, X3b))\n",
    "Y = np.concatenate((Ya, Yb))\n",
    "\n",
    "Xmatrix = np.column_stack((X1, X2, X3))\n",
    "Xmatrix_df = pd.DataFrame(Xmatrix, columns=['X1', 'X2', 'X3'])\n",
    "\n",
    "# Convert numpy arrays to R objects\n",
    "r_Xmatrix = numpy2ri.numpy2ri(Xmatrix)\n",
    "r_Y = numpy2ri.numpy2ri(Y)\n",
    "\n",
    "# Load seqICP library\n",
    "robjects.r('''\n",
    "    library(seqICP)\n",
    "''')\n",
    "\n",
    "# Run the seqICP analysis\n",
    "robjects.globalenv['Xmatrix'] = r_Xmatrix\n",
    "robjects.globalenv['Y'] = r_Y\n",
    "robjects.r('''\n",
    "    seqICP_result <- seqICP(X = Xmatrix, Y = Y, \n",
    "        par.test = list(grid = seq(0, length(Y), length(Y)/10), complements = FALSE, link = sum,\n",
    "        alpha = 0.05, B = 100), max.parents = 4, stopIfEmpty = FALSE, silent = TRUE)\n",
    "    seqICP_summary <- summary(seqICP_result)\n",
    "    parent_set <- seqICP_result$parent.set\n",
    "\n",
    "''')\n",
    "\n",
    "# Retrieve the results\n",
    "seqICP_summary = robjects.r['seqICP_summary']"
   ]
  },
  {
   "cell_type": "code",
   "execution_count": 9,
   "metadata": {},
   "outputs": [
    {
     "data": {
      "text/plain": [
       "array([1, 3], dtype=int32)"
      ]
     },
     "execution_count": 9,
     "metadata": {},
     "output_type": "execute_result"
    }
   ],
   "source": [
    "\n",
    "# Retrieve the results\n",
    "parent_set = robjects.r['parent_set']\n",
    "\n",
    "parent_set"
   ]
  },
  {
   "cell_type": "code",
   "execution_count": 11,
   "metadata": {},
   "outputs": [
    {
     "data": {
      "text/html": [
       "<div>\n",
       "<style scoped>\n",
       "    .dataframe tbody tr th:only-of-type {\n",
       "        vertical-align: middle;\n",
       "    }\n",
       "\n",
       "    .dataframe tbody tr th {\n",
       "        vertical-align: top;\n",
       "    }\n",
       "\n",
       "    .dataframe thead th {\n",
       "        text-align: right;\n",
       "    }\n",
       "</style>\n",
       "<table border=\"1\" class=\"dataframe\">\n",
       "  <thead>\n",
       "    <tr style=\"text-align: right;\">\n",
       "      <th></th>\n",
       "      <th>X1</th>\n",
       "      <th>X2</th>\n",
       "      <th>X3</th>\n",
       "    </tr>\n",
       "  </thead>\n",
       "  <tbody>\n",
       "    <tr>\n",
       "      <th>215</th>\n",
       "      <td>0.150518</td>\n",
       "      <td>0.329003</td>\n",
       "      <td>0.749054</td>\n",
       "    </tr>\n",
       "    <tr>\n",
       "      <th>216</th>\n",
       "      <td>-0.178003</td>\n",
       "      <td>-0.087175</td>\n",
       "      <td>-0.150488</td>\n",
       "    </tr>\n",
       "    <tr>\n",
       "      <th>217</th>\n",
       "      <td>0.153092</td>\n",
       "      <td>0.095745</td>\n",
       "      <td>0.403728</td>\n",
       "    </tr>\n",
       "    <tr>\n",
       "      <th>218</th>\n",
       "      <td>-0.274738</td>\n",
       "      <td>-0.084745</td>\n",
       "      <td>0.156119</td>\n",
       "    </tr>\n",
       "    <tr>\n",
       "      <th>219</th>\n",
       "      <td>-0.122176</td>\n",
       "      <td>0.031934</td>\n",
       "      <td>-0.096661</td>\n",
       "    </tr>\n",
       "  </tbody>\n",
       "</table>\n",
       "</div>"
      ],
      "text/plain": [
       "           X1        X2        X3\n",
       "215  0.150518  0.329003  0.749054\n",
       "216 -0.178003 -0.087175 -0.150488\n",
       "217  0.153092  0.095745  0.403728\n",
       "218 -0.274738 -0.084745  0.156119\n",
       "219 -0.122176  0.031934 -0.096661"
      ]
     },
     "execution_count": 11,
     "metadata": {},
     "output_type": "execute_result"
    }
   ],
   "source": [
    "Xmatrix_df.tail()"
   ]
  },
  {
   "cell_type": "code",
   "execution_count": 15,
   "metadata": {},
   "outputs": [
    {
     "data": {
      "text/plain": [
       "Index(['X1', 'X3'], dtype='object')"
      ]
     },
     "execution_count": 15,
     "metadata": {},
     "output_type": "execute_result"
    }
   ],
   "source": [
    "Xmatrix_df.columns[(parent_set - 1)]"
   ]
  },
  {
   "cell_type": "code",
   "execution_count": null,
   "metadata": {},
   "outputs": [],
   "source": []
  }
 ],
 "metadata": {
  "kernelspec": {
   "display_name": "cml-fin",
   "language": "python",
   "name": "python3"
  },
  "language_info": {
   "codemirror_mode": {
    "name": "ipython",
    "version": 3
   },
   "file_extension": ".py",
   "mimetype": "text/x-python",
   "name": "python",
   "nbconvert_exporter": "python",
   "pygments_lexer": "ipython3",
   "version": "3.7.7"
  }
 },
 "nbformat": 4,
 "nbformat_minor": 2
}
