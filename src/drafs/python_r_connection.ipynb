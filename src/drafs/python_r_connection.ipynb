{
 "cells": [
  {
   "cell_type": "code",
   "execution_count": 17,
   "metadata": {},
   "outputs": [],
   "source": [
    "import rpy2.robjects as robjects\n",
    "from rpy2.robjects import pandas2ri\n",
    "from rpy2.robjects import numpy2ri\n",
    "\n",
    "import pandas as pd\n",
    "import numpy as np\n",
    "\n",
    "pandas2ri.activate()"
   ]
  },
  {
   "cell_type": "code",
   "execution_count": 19,
   "metadata": {},
   "outputs": [
    {
     "name": "stdout",
     "output_type": "stream",
     "text": [
      "\n",
      " Invariant Linear Causal Regression at level 0.05\n",
      "\n",
      " Variables X1, X3 show a significant causal effect\n",
      "\n",
      " \n",
      " \n",
      "         \n",
      " coefficient\n",
      " lower bound\n",
      " upper bound\n",
      "  p-value\n",
      "  \n",
      "\n",
      "intercept\n",
      "       -0.01\n",
      "     -0.0430\n",
      "      0.0286\n",
      "       NA\n",
      "  \n",
      "\n",
      "X1       \n",
      "       -0.73\n",
      "     -0.7870\n",
      "     -0.5064\n",
      "     0.02\n",
      " *\n",
      "\n",
      "X2       \n",
      "        0.00\n",
      "      0.0000\n",
      "      0.0000\n",
      "     0.42\n",
      "  \n",
      "\n",
      "X3       \n",
      "        0.60\n",
      "      0.5600\n",
      "      0.7210\n",
      "     0.02\n",
      " *\n",
      "\n",
      "\n",
      "---\n",
      "Signif. codes:  \n",
      "\n",
      "0 ‘***’ 0.001 ‘**’ 0.01 ‘*’ 0.05 ‘.’ 0.1 ‘ ’ 1\n",
      "\n",
      "\n",
      "\n",
      "\n",
      "\n",
      "\n"
     ]
    }
   ],
   "source": [
    "np.random.seed(1)\n",
    "\n",
    "# environment 1\n",
    "na = 140\n",
    "X1a = 0.3 * np.random.randn(na)\n",
    "X3a = X1a + 0.2 * np.random.randn(na)\n",
    "Ya = -.7 * X1a + .6 * X3a + 0.1 * np.random.randn(na)\n",
    "X2a = -0.5 * Ya + 0.5 * X3a + 0.1 * np.random.randn(na)\n",
    "\n",
    "# environment 2\n",
    "nb = 80\n",
    "X1b = 0.3 * np.random.randn(nb)\n",
    "X3b = 0.5 * np.random.randn(nb)\n",
    "Yb = -.7 * X1b + .6 * X3b + 0.1 * np.random.randn(nb)\n",
    "X2b = -0.5 * Yb + 0.5 * X3b + 0.1 * np.random.randn(nb)\n",
    "\n",
    "# Combine environments\n",
    "X1 = np.concatenate((X1a, X1b))\n",
    "X2 = np.concatenate((X2a, X2b))\n",
    "X3 = np.concatenate((X3a, X3b))\n",
    "Y = np.concatenate((Ya, Yb))\n",
    "\n",
    "Xmatrix = np.column_stack((X1, X2, X3))\n",
    "\n",
    "# Convert numpy arrays to R objects\n",
    "r_Xmatrix = numpy2ri.numpy2ri(Xmatrix)\n",
    "r_Y = numpy2ri.numpy2ri(Y)\n",
    "\n",
    "# Load seqICP library\n",
    "robjects.r('''\n",
    "    library(seqICP)\n",
    "''')\n",
    "\n",
    "# Run the seqICP analysis\n",
    "robjects.globalenv['Xmatrix'] = r_Xmatrix\n",
    "robjects.globalenv['Y'] = r_Y\n",
    "robjects.r('''\n",
    "    seqICP_result <- seqICP(X = Xmatrix, Y = Y, \n",
    "        par.test = list(grid = seq(0, length(Y), length(Y)/10), complements = FALSE, link = sum,\n",
    "        alpha = 0.05, B = 100), max.parents = 4, stopIfEmpty = FALSE, silent = TRUE)\n",
    "    seqICP_summary <- summary(seqICP_result)\n",
    "''')\n",
    "\n",
    "# Retrieve the results\n",
    "seqICP_summary = robjects.r['seqICP_summary']"
   ]
  },
  {
   "cell_type": "code",
   "execution_count": 20,
   "metadata": {},
   "outputs": [
    {
     "name": "stdout",
     "output_type": "stream",
     "text": [
      "\n",
      "Call:\n",
      "lm(formula = Y ~ Xmatrix)\n",
      "\n",
      "Residuals:\n",
      "      Min        1Q    Median        3Q       Max \n",
      "-0.205831 -0.061317 -0.001113  0.057515  0.266640 \n",
      "\n",
      "Coefficients:\n",
      "             Estimate Std. Error t value Pr(>|t|)    \n",
      "(Intercept)  0.001799   0.005980   0.301    0.764    \n",
      "XmatrixX1   -0.583158   0.027397 -21.285  < 2e-16 ***\n",
      "XmatrixX2   -0.379482   0.047765  -7.945 1.06e-13 ***\n",
      "XmatrixX3    0.687121   0.018082  38.000  < 2e-16 ***\n",
      "---\n",
      "Signif. codes:  0 ‘***’ 0.001 ‘**’ 0.01 ‘*’ 0.05 ‘.’ 0.1 ‘ ’ 1\n",
      "\n",
      "Residual standard error: 0.08813 on 216 degrees of freedom\n",
      "Multiple R-squared:  0.904,\tAdjusted R-squared:  0.9027 \n",
      "F-statistic: 678.1 on 3 and 216 DF,  p-value: < 2.2e-16\n",
      "\n",
      "\n"
     ]
    }
   ],
   "source": [
    "\n",
    "# Retrieve the results\n",
    "lm_result = robjects.r['lm_result']\n",
    "\n",
    "# Print the results\n",
    "print(lm_result)"
   ]
  },
  {
   "cell_type": "code",
   "execution_count": 21,
   "metadata": {},
   "outputs": [
    {
     "data": {
      "text/plain": [
       "array([1, 3], dtype=int32)"
      ]
     },
     "execution_count": 21,
     "metadata": {},
     "output_type": "execute_result"
    }
   ],
   "source": [
    "robjects.r['parent_set']"
   ]
  },
  {
   "cell_type": "code",
   "execution_count": null,
   "metadata": {},
   "outputs": [],
   "source": []
  }
 ],
 "metadata": {
  "kernelspec": {
   "display_name": "cml-fin",
   "language": "python",
   "name": "python3"
  },
  "language_info": {
   "codemirror_mode": {
    "name": "ipython",
    "version": 3
   },
   "file_extension": ".py",
   "mimetype": "text/x-python",
   "name": "python",
   "nbconvert_exporter": "python",
   "pygments_lexer": "ipython3",
   "version": "3.7.7"
  }
 },
 "nbformat": 4,
 "nbformat_minor": 2
}
