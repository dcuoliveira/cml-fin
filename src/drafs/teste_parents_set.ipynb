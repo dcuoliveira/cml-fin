{
 "cells": [
  {
   "cell_type": "code",
   "execution_count": 1,
   "metadata": {},
   "outputs": [],
   "source": [
    "import pandas as pd\n",
    "import os\n",
    "import rpy2.robjects as robjects\n",
    "from rpy2.robjects import pandas2ri\n",
    "from rpy2.robjects import numpy2ri\n",
    "from statsmodels.tsa.api import VAR\n",
    "\n",
    "from metadata.etfs import etfs_large, etfs_small\n",
    "\n",
    "pandas2ri.activate()\n",
    "\n",
    "inputs_path = os.path.join(os.getcwd(), \"data\", \"inputs\")\n",
    "data_name = \"monetary-policy-processed\"\n",
    "target = \"ldEXME\"\n",
    "p = -1\n",
    "pval_threshold = 0.05"
   ]
  },
  {
   "cell_type": "code",
   "execution_count": 2,
   "metadata": {},
   "outputs": [],
   "source": [
    "data = pd.read_csv(os.path.join(inputs_path, f'{data_name}.csv'))\n",
    "\n",
    "# fix columns\n",
    "if \"Unnamed: 0\" in data.columns:\n",
    "    data = data.drop([\"Unnamed: 0\"], axis=1)\n",
    "\n",
    "# fix dates\n",
    "data[\"date\"] = pd.to_datetime(data[\"date\"])\n",
    "data = data.set_index(\"date\")\n",
    "\n",
    "etfs_large = etfs_large.copy()\n",
    "\n",
    "if target != \"ldEXME\":\n",
    "    # select etfs to remove\n",
    "    removed_etfs = [etf for etf in etfs_large if etf != target]\n",
    "\n",
    "    # delete etfs\n",
    "    selected_data = data.drop(removed_etfs, axis=1)\n",
    "else:\n",
    "    selected_data = data.copy()"
   ]
  },
  {
   "cell_type": "code",
   "execution_count": 3,
   "metadata": {},
   "outputs": [
    {
     "name": "stderr",
     "output_type": "stream",
     "text": [
      "/home/danielco/miniconda3/envs/cml-fin-r/lib/python3.11/site-packages/statsmodels/tsa/base/tsa_model.py:473: ValueWarning: No frequency information was provided, so inferred frequency MS will be used.\n",
      "  self._init_dates(dates, freq)\n"
     ]
    },
    {
     "name": "stdout",
     "output_type": "stream",
     "text": [
      "\n",
      " Invariant Linear Causal Regression at level 0\n",
      " No variable shows a significant causal effect\n",
      " \n",
      "           coefficient lower bound upper bound  p-value   \n",
      "intercept        0.00        -Inf         Inf       NA   \n",
      "X1[t]            0.00    0.000000           0    0.068 . \n",
      "X2[t]            0.00    0.000000           0    0.016 * \n",
      "X3[t]            0.00    0.000000           0    0.053 . \n",
      "X4[t]            0.00    0.000000           0    0.045 * \n",
      "X5[t]            0.00    0.000000           0    0.068 . \n",
      "X6[t]            0.00    0.000000           0    0.068 . \n",
      "X7[t]            0.00    0.000000           0    0.006 **\n",
      "X8[t]            0.00    0.000000           0    0.068 . \n",
      "X9[t]            0.00    0.000000           0    0.068 . \n",
      "Y0[t-1]          0.20        -Inf         Inf       NA   \n",
      "X1[t-1]         -0.23        -Inf         Inf       NA   \n",
      "X2[t-1]          0.23        -Inf         Inf       NA   \n",
      "X3[t-1]          0.11        -Inf         Inf       NA   \n",
      "X4[t-1]         -0.04        -Inf         Inf       NA   \n",
      "X5[t-1]         -0.09        -Inf         Inf       NA   \n",
      "X6[t-1]          0.13        -Inf         Inf       NA   \n",
      "X7[t-1]         -0.52        -Inf         Inf       NA   \n",
      "X8[t-1]         -1.77        -Inf         Inf       NA   \n",
      "X9[t-1]          0.02        -Inf         Inf       NA   \n",
      "Y0[t-2]          0.22        -Inf         Inf       NA   \n",
      "X1[t-2]         -0.10        -Inf         Inf       NA   \n",
      "X2[t-2]          0.16        -Inf         Inf       NA   \n",
      "X3[t-2]          0.11        -Inf         Inf       NA   \n",
      "X4[t-2]          0.04        -Inf         Inf       NA   \n",
      "X5[t-2]          0.38        -Inf         Inf       NA   \n",
      "X6[t-2]          0.38        -Inf         Inf       NA   \n",
      "X7[t-2]          0.12        -Inf         Inf       NA   \n",
      "X8[t-2]          4.03        -Inf         Inf       NA   \n",
      "X9[t-2]          0.02        -Inf         Inf       NA   \n",
      "Y0[t-3]         -0.26        -Inf         Inf       NA   \n",
      "X1[t-3]         -0.04        -Inf         Inf       NA   \n",
      "X2[t-3]         -0.03        -Inf         Inf       NA   \n",
      "X3[t-3]         -0.03        -Inf         Inf       NA   \n",
      "X4[t-3]          0.05        -Inf         Inf       NA   \n",
      "X5[t-3]         -0.06        -Inf         Inf       NA   \n",
      "X6[t-3]          0.01        -Inf         Inf       NA   \n",
      "X7[t-3]          0.09        -Inf         Inf       NA   \n",
      "X8[t-3]         -3.68        -Inf         Inf       NA   \n",
      "X9[t-3]          0.00        -Inf         Inf       NA   \n",
      "Y0[t-4]         -0.01        -Inf         Inf       NA   \n",
      "X1[t-4]         -0.06        -Inf         Inf       NA   \n",
      "X2[t-4]          0.04        -Inf         Inf       NA   \n",
      "X3[t-4]          0.05        -Inf         Inf       NA   \n",
      "X4[t-4]          0.04        -Inf         Inf       NA   \n",
      "X5[t-4]         -0.30        -Inf         Inf       NA   \n",
      "X6[t-4]         -0.05        -Inf         Inf       NA   \n",
      "X7[t-4]         -0.01        -Inf         Inf       NA   \n",
      "X8[t-4]          1.49        -Inf         Inf       NA   \n",
      "X9[t-4]          0.03        -Inf         Inf       NA   \n",
      "---\n",
      "Signif. codes:  0 ‘***’ 0.001 ‘**’ 0.01 ‘*’ 0.05 ‘.’ 0.1 ‘ ’ 1\n",
      "\n",
      "\n"
     ]
    }
   ],
   "source": [
    "selected_data = selected_data # .iloc[1:100,:]\n",
    "\n",
    "if p == -1:\n",
    "    var_select_model = VAR(selected_data)\n",
    "    selected_p = var_select_model.select_order(maxlags=6)\n",
    "    selected_p = selected_p.selected_orders[\"aic\"]\n",
    "    if selected_p == 0:\n",
    "        selected_p = 1\n",
    "else:\n",
    "    selected_p = p\n",
    "\n",
    "X_train = selected_data.drop(target, axis=1).values\n",
    "y_train = selected_data[target]\n",
    "\n",
    "X_train_r = numpy2ri.numpy2rpy(X_train)\n",
    "y_train_r = numpy2ri.numpy2rpy(y_train)\n",
    "selected_p_r =  robjects.vectors.IntVector([selected_p])\n",
    "pval_threshold_r = robjects.vectors.IntVector([pval_threshold])\n",
    "\n",
    "# pass inputs to global variables\n",
    "robjects.globalenv['Xmatrix'] = X_train_r\n",
    "robjects.globalenv['Y'] = y_train_r\n",
    "robjects.globalenv[\"selected_p\"] = selected_p_r\n",
    "robjects.globalenv[\"pval_threshold\"] = pval_threshold_r\n",
    "\n",
    "robjects.r(f'''\n",
    "    library(seqICP)\n",
    "\n",
    "    seqICP_result <- seqICP(Xmatrix,\n",
    "                            Y,\n",
    "                            test=\"smooth.variance\",\n",
    "                            par.test=list(alpha=pval_threshold,B=1000),\n",
    "                            model=\"ar\",\n",
    "                            par.model=list(pknown=TRUE,p=selected_p),\n",
    "                            stopIfEmpty=FALSE,\n",
    "                            silent=TRUE)\n",
    "    seqICP_summary <- summary(seqICP_result)\n",
    "    parent_set <- seqICP_result$parent.set\n",
    "    p_values <- seqICP_result$p.values\n",
    "\n",
    "\n",
    "''')\n",
    "\n",
    "# retrieve results from seqICP\n",
    "parent_set = robjects.r['parent_set']\n",
    "p_values = robjects.r['p_values']"
   ]
  },
  {
   "cell_type": "code",
   "execution_count": 18,
   "metadata": {},
   "outputs": [],
   "source": [
    "# retrieve results from seqICP\n",
    "p_values = robjects.r['p_values']\n",
    "\n",
    "selected_variables_df = pd.DataFrame({\n",
    "    \"variables\": selected_data.drop(target, axis=1).columns,\n",
    "    \"pval\": robjects.r['p_values']\n",
    "})\n",
    "\n",
    "selected_variables_df = selected_variables_df.loc[selected_variables_df[\"pval\"] <= pval_threshold]\n",
    "\n",
    "if selected_variables_df.shape[0] > 0:\n",
    "    selected_variables = []\n",
    "    for feature in selected_variables_df[\"variables\"]:\n",
    "        for i in range(1, selected_p+1):\n",
    "            selected_variables.append(f\"{feature}(t-{i})\")\n",
    "else:\n",
    "    selected_variables = []"
   ]
  },
  {
   "cell_type": "code",
   "execution_count": 19,
   "metadata": {},
   "outputs": [
    {
     "data": {
      "text/plain": [
       "['ldFCIr(t-1)',\n",
       " 'ldFCIr(t-2)',\n",
       " 'ldFCIr(t-3)',\n",
       " 'ldFCIr(t-4)',\n",
       " 'ldMAr(t-1)',\n",
       " 'ldMAr(t-2)',\n",
       " 'ldMAr(t-3)',\n",
       " 'ldMAr(t-4)',\n",
       " 'ldGDPch(t-1)',\n",
       " 'ldGDPch(t-2)',\n",
       " 'ldGDPch(t-3)',\n",
       " 'ldGDPch(t-4)']"
      ]
     },
     "execution_count": 19,
     "metadata": {},
     "output_type": "execute_result"
    }
   ],
   "source": [
    "selected_variables"
   ]
  },
  {
   "cell_type": "code",
   "execution_count": null,
   "metadata": {},
   "outputs": [],
   "source": []
  }
 ],
 "metadata": {
  "kernelspec": {
   "display_name": "cml-fin-r",
   "language": "python",
   "name": "python3"
  },
  "language_info": {
   "codemirror_mode": {
    "name": "ipython",
    "version": 3
   },
   "file_extension": ".py",
   "mimetype": "text/x-python",
   "name": "python",
   "nbconvert_exporter": "python",
   "pygments_lexer": "ipython3",
   "version": "3.11.5"
  }
 },
 "nbformat": 4,
 "nbformat_minor": 2
}
