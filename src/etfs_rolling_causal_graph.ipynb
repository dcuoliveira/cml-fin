{
 "cells": [
  {
   "cell_type": "code",
   "execution_count": 30,
   "metadata": {},
   "outputs": [],
   "source": [
    "import os\n",
    "import pandas as pd\n",
    "from scipy import stats\n",
    "import lingam"
   ]
  },
  {
   "cell_type": "code",
   "execution_count": 6,
   "metadata": {},
   "outputs": [
    {
     "data": {
      "text/html": [
       "<div>\n",
       "<style scoped>\n",
       "    .dataframe tbody tr th:only-of-type {\n",
       "        vertical-align: middle;\n",
       "    }\n",
       "\n",
       "    .dataframe tbody tr th {\n",
       "        vertical-align: top;\n",
       "    }\n",
       "\n",
       "    .dataframe thead th {\n",
       "        text-align: right;\n",
       "    }\n",
       "</style>\n",
       "<table border=\"1\" class=\"dataframe\">\n",
       "  <thead>\n",
       "    <tr style=\"text-align: right;\">\n",
       "      <th></th>\n",
       "      <th>SPY</th>\n",
       "      <th>XLI</th>\n",
       "      <th>XLE</th>\n",
       "      <th>XLK</th>\n",
       "      <th>XLV</th>\n",
       "      <th>XLU</th>\n",
       "      <th>XLF</th>\n",
       "      <th>XLY</th>\n",
       "      <th>XLP</th>\n",
       "      <th>XLB</th>\n",
       "      <th>...</th>\n",
       "      <th>CUSR0000SAC</th>\n",
       "      <th>CUSR0000SAD</th>\n",
       "      <th>CUSR0000SAS</th>\n",
       "      <th>CPIULFSL</th>\n",
       "      <th>CUSR0000SA0L2</th>\n",
       "      <th>CUSR0000SA0L5</th>\n",
       "      <th>PCEPI</th>\n",
       "      <th>DDURRG3M086SBEA</th>\n",
       "      <th>DNDGRG3M086SBEA</th>\n",
       "      <th>DSERRG3M086SBEA</th>\n",
       "    </tr>\n",
       "    <tr>\n",
       "      <th>date</th>\n",
       "      <th></th>\n",
       "      <th></th>\n",
       "      <th></th>\n",
       "      <th></th>\n",
       "      <th></th>\n",
       "      <th></th>\n",
       "      <th></th>\n",
       "      <th></th>\n",
       "      <th></th>\n",
       "      <th></th>\n",
       "      <th></th>\n",
       "      <th></th>\n",
       "      <th></th>\n",
       "      <th></th>\n",
       "      <th></th>\n",
       "      <th></th>\n",
       "      <th></th>\n",
       "      <th></th>\n",
       "      <th></th>\n",
       "      <th></th>\n",
       "      <th></th>\n",
       "    </tr>\n",
       "  </thead>\n",
       "  <tbody>\n",
       "    <tr>\n",
       "      <th>2000-02-01</th>\n",
       "      <td>-0.021282</td>\n",
       "      <td>-0.079459</td>\n",
       "      <td>0.001764</td>\n",
       "      <td>-0.012479</td>\n",
       "      <td>0.026966</td>\n",
       "      <td>-0.015484</td>\n",
       "      <td>-0.023499</td>\n",
       "      <td>-0.092305</td>\n",
       "      <td>-0.002751</td>\n",
       "      <td>-0.122759</td>\n",
       "      <td>...</td>\n",
       "      <td>0.006116</td>\n",
       "      <td>-0.001597</td>\n",
       "      <td>0.002601</td>\n",
       "      <td>0.004109</td>\n",
       "      <td>0.004902</td>\n",
       "      <td>0.003639</td>\n",
       "      <td>0.003131</td>\n",
       "      <td>-0.002778</td>\n",
       "      <td>0.007243</td>\n",
       "      <td>0.002975</td>\n",
       "    </tr>\n",
       "    <tr>\n",
       "      <th>2000-03-01</th>\n",
       "      <td>-0.017010</td>\n",
       "      <td>-0.076506</td>\n",
       "      <td>-0.027588</td>\n",
       "      <td>0.096418</td>\n",
       "      <td>-0.090493</td>\n",
       "      <td>-0.053417</td>\n",
       "      <td>-0.096940</td>\n",
       "      <td>-0.104500</td>\n",
       "      <td>-0.104976</td>\n",
       "      <td>-0.134285</td>\n",
       "      <td>...</td>\n",
       "      <td>0.010111</td>\n",
       "      <td>0.003192</td>\n",
       "      <td>0.003112</td>\n",
       "      <td>0.006423</td>\n",
       "      <td>0.006701</td>\n",
       "      <td>0.006637</td>\n",
       "      <td>0.004292</td>\n",
       "      <td>0.001940</td>\n",
       "      <td>0.012709</td>\n",
       "      <td>0.001775</td>\n",
       "    </tr>\n",
       "    <tr>\n",
       "      <th>2000-05-01</th>\n",
       "      <td>-0.032612</td>\n",
       "      <td>0.055099</td>\n",
       "      <td>0.042422</td>\n",
       "      <td>-0.145227</td>\n",
       "      <td>-0.019337</td>\n",
       "      <td>0.079906</td>\n",
       "      <td>-0.004560</td>\n",
       "      <td>0.043250</td>\n",
       "      <td>0.107819</td>\n",
       "      <td>-0.007696</td>\n",
       "      <td>...</td>\n",
       "      <td>0.000000</td>\n",
       "      <td>0.003185</td>\n",
       "      <td>0.002581</td>\n",
       "      <td>0.001164</td>\n",
       "      <td>0.001215</td>\n",
       "      <td>0.001805</td>\n",
       "      <td>0.000836</td>\n",
       "      <td>0.000103</td>\n",
       "      <td>-0.001753</td>\n",
       "      <td>0.001923</td>\n",
       "    </tr>\n",
       "    <tr>\n",
       "      <th>2000-06-01</th>\n",
       "      <td>-0.004720</td>\n",
       "      <td>-0.003146</td>\n",
       "      <td>0.071931</td>\n",
       "      <td>-0.062907</td>\n",
       "      <td>-0.024226</td>\n",
       "      <td>0.004376</td>\n",
       "      <td>0.075222</td>\n",
       "      <td>-0.073864</td>\n",
       "      <td>0.042560</td>\n",
       "      <td>-0.021432</td>\n",
       "      <td>...</td>\n",
       "      <td>0.007380</td>\n",
       "      <td>-0.002388</td>\n",
       "      <td>0.004628</td>\n",
       "      <td>0.006957</td>\n",
       "      <td>0.006657</td>\n",
       "      <td>0.005992</td>\n",
       "      <td>0.003390</td>\n",
       "      <td>-0.003126</td>\n",
       "      <td>0.009124</td>\n",
       "      <td>0.002706</td>\n",
       "    </tr>\n",
       "    <tr>\n",
       "      <th>2000-08-01</th>\n",
       "      <td>-0.008866</td>\n",
       "      <td>0.019630</td>\n",
       "      <td>-0.040169</td>\n",
       "      <td>-0.056302</td>\n",
       "      <td>0.007473</td>\n",
       "      <td>0.005542</td>\n",
       "      <td>0.058110</td>\n",
       "      <td>0.020346</td>\n",
       "      <td>0.015038</td>\n",
       "      <td>-0.036369</td>\n",
       "      <td>...</td>\n",
       "      <td>-0.004013</td>\n",
       "      <td>-0.000798</td>\n",
       "      <td>0.003061</td>\n",
       "      <td>-0.000577</td>\n",
       "      <td>-0.001203</td>\n",
       "      <td>-0.000596</td>\n",
       "      <td>-0.000064</td>\n",
       "      <td>-0.004124</td>\n",
       "      <td>-0.005135</td>\n",
       "      <td>0.002607</td>\n",
       "    </tr>\n",
       "  </tbody>\n",
       "</table>\n",
       "<p>5 rows × 137 columns</p>\n",
       "</div>"
      ],
      "text/plain": [
       "                 SPY       XLI       XLE       XLK       XLV       XLU  \\\n",
       "date                                                                     \n",
       "2000-02-01 -0.021282 -0.079459  0.001764 -0.012479  0.026966 -0.015484   \n",
       "2000-03-01 -0.017010 -0.076506 -0.027588  0.096418 -0.090493 -0.053417   \n",
       "2000-05-01 -0.032612  0.055099  0.042422 -0.145227 -0.019337  0.079906   \n",
       "2000-06-01 -0.004720 -0.003146  0.071931 -0.062907 -0.024226  0.004376   \n",
       "2000-08-01 -0.008866  0.019630 -0.040169 -0.056302  0.007473  0.005542   \n",
       "\n",
       "                 XLF       XLY       XLP       XLB  ...  CUSR0000SAC  \\\n",
       "date                                                ...                \n",
       "2000-02-01 -0.023499 -0.092305 -0.002751 -0.122759  ...     0.006116   \n",
       "2000-03-01 -0.096940 -0.104500 -0.104976 -0.134285  ...     0.010111   \n",
       "2000-05-01 -0.004560  0.043250  0.107819 -0.007696  ...     0.000000   \n",
       "2000-06-01  0.075222 -0.073864  0.042560 -0.021432  ...     0.007380   \n",
       "2000-08-01  0.058110  0.020346  0.015038 -0.036369  ...    -0.004013   \n",
       "\n",
       "            CUSR0000SAD  CUSR0000SAS  CPIULFSL  CUSR0000SA0L2  CUSR0000SA0L5  \\\n",
       "date                                                                           \n",
       "2000-02-01    -0.001597     0.002601  0.004109       0.004902       0.003639   \n",
       "2000-03-01     0.003192     0.003112  0.006423       0.006701       0.006637   \n",
       "2000-05-01     0.003185     0.002581  0.001164       0.001215       0.001805   \n",
       "2000-06-01    -0.002388     0.004628  0.006957       0.006657       0.005992   \n",
       "2000-08-01    -0.000798     0.003061 -0.000577      -0.001203      -0.000596   \n",
       "\n",
       "               PCEPI  DDURRG3M086SBEA  DNDGRG3M086SBEA  DSERRG3M086SBEA  \n",
       "date                                                                     \n",
       "2000-02-01  0.003131        -0.002778         0.007243         0.002975  \n",
       "2000-03-01  0.004292         0.001940         0.012709         0.001775  \n",
       "2000-05-01  0.000836         0.000103        -0.001753         0.001923  \n",
       "2000-06-01  0.003390        -0.003126         0.009124         0.002706  \n",
       "2000-08-01 -0.000064        -0.004124        -0.005135         0.002607  \n",
       "\n",
       "[5 rows x 137 columns]"
      ]
     },
     "execution_count": 6,
     "metadata": {},
     "output_type": "execute_result"
    }
   ],
   "source": [
    "df = pd.read_csv(os.path.join(os.getcwd(), 'data', 'inputs', 'big_monthly_ret_etfs_macro_transf.csv'))\n",
    "df.set_index('date', inplace=True)\n",
    "\n",
    "df.head()"
   ]
  },
  {
   "cell_type": "code",
   "execution_count": 31,
   "metadata": {},
   "outputs": [],
   "source": [
    "etfs = [\"SPY\" ,\"XLI\" ,\"XLE\" ,\"XLK\" ,\"XLV\", \"XLU\" ,\"XLF\" ,\"XLY\" ,\"XLP\" ,\"XLB\"]\n",
    "target = \"SPY\"\n",
    "start_window = 12 * 5\n",
    "p = 2\n",
    "\n",
    "etfs.remove(target)\n",
    "target_df = df.drop(etfs, axis=1)"
   ]
  },
  {
   "cell_type": "code",
   "execution_count": 33,
   "metadata": {},
   "outputs": [
    {
     "data": {
      "text/plain": [
       "0.0"
      ]
     },
     "execution_count": 33,
     "metadata": {},
     "output_type": "execute_result"
    }
   ],
   "source": [
    "shapiro_wilk_test = stats.shapiro(target_df)\n",
    "shapiro_wilk_test.pvalue"
   ]
  },
  {
   "cell_type": "code",
   "execution_count": 36,
   "metadata": {},
   "outputs": [
    {
     "data": {
      "text/plain": [
       "(193, 128)"
      ]
     },
     "execution_count": 36,
     "metadata": {},
     "output_type": "execute_result"
    }
   ],
   "source": [
    "target_df.shape"
   ]
  },
  {
   "cell_type": "code",
   "execution_count": 35,
   "metadata": {},
   "outputs": [
    {
     "data": {
      "text/plain": [
       "(60, 128)"
      ]
     },
     "execution_count": 35,
     "metadata": {},
     "output_type": "execute_result"
    }
   ],
   "source": [
    "Xt.shape"
   ]
  },
  {
   "cell_type": "code",
   "execution_count": 38,
   "metadata": {},
   "outputs": [
    {
     "ename": "LinAlgError",
     "evalue": "60-th leading minor of the array is not positive definite",
     "output_type": "error",
     "traceback": [
      "\u001b[0;31m---------------------------------------------------------------------------\u001b[0m",
      "\u001b[0;31mLinAlgError\u001b[0m                               Traceback (most recent call last)",
      "\u001b[1;32m/Users/danieloliveira/Documents/Daniel/codes/cml-fin/src/etfs_rolling_causal_graph.ipynb Cell 7\u001b[0m line \u001b[0;36m1\n\u001b[1;32m      <a href='vscode-notebook-cell:/Users/danieloliveira/Documents/Daniel/codes/cml-fin/src/etfs_rolling_causal_graph.ipynb#X10sZmlsZQ%3D%3D?line=6'>7</a>\u001b[0m Xt \u001b[39m=\u001b[39m target_df\u001b[39m.\u001b[39miloc[start:(end \u001b[39m+\u001b[39m step), :]\n\u001b[1;32m      <a href='vscode-notebook-cell:/Users/danieloliveira/Documents/Daniel/codes/cml-fin/src/etfs_rolling_causal_graph.ipynb#X10sZmlsZQ%3D%3D?line=8'>9</a>\u001b[0m var_lingam \u001b[39m=\u001b[39m lingam\u001b[39m.\u001b[39mVARLiNGAM(lags\u001b[39m=\u001b[39mp)\n\u001b[0;32m---> <a href='vscode-notebook-cell:/Users/danieloliveira/Documents/Daniel/codes/cml-fin/src/etfs_rolling_causal_graph.ipynb#X10sZmlsZQ%3D%3D?line=9'>10</a>\u001b[0m var_lingam_fit \u001b[39m=\u001b[39m var_lingam\u001b[39m.\u001b[39;49mfit(Xt)\n",
      "File \u001b[0;32m~/opt/anaconda3/envs/cml-fin/lib/python3.10/site-packages/lingam/var_lingam.py:95\u001b[0m, in \u001b[0;36mVARLiNGAM.fit\u001b[0;34m(self, X)\u001b[0m\n\u001b[1;32m     92\u001b[0m M_taus \u001b[39m=\u001b[39m \u001b[39mself\u001b[39m\u001b[39m.\u001b[39m_ar_coefs\n\u001b[1;32m     94\u001b[0m \u001b[39mif\u001b[39;00m M_taus \u001b[39mis\u001b[39;00m \u001b[39mNone\u001b[39;00m:\n\u001b[0;32m---> 95\u001b[0m     M_taus, lags, residuals \u001b[39m=\u001b[39m \u001b[39mself\u001b[39;49m\u001b[39m.\u001b[39;49m_estimate_var_coefs(X)\n\u001b[1;32m     96\u001b[0m \u001b[39melse\u001b[39;00m:\n\u001b[1;32m     97\u001b[0m     lags \u001b[39m=\u001b[39m M_taus\u001b[39m.\u001b[39mshape[\u001b[39m0\u001b[39m]\n",
      "File \u001b[0;32m~/opt/anaconda3/envs/cml-fin/lib/python3.10/site-packages/lingam/var_lingam.py:281\u001b[0m, in \u001b[0;36mVARLiNGAM._estimate_var_coefs\u001b[0;34m(self, X)\u001b[0m\n\u001b[1;32m    278\u001b[0m var \u001b[39m=\u001b[39m VAR(X)\n\u001b[1;32m    279\u001b[0m fitted \u001b[39m=\u001b[39m var\u001b[39m.\u001b[39mfit(maxlags\u001b[39m=\u001b[39mlag, ic\u001b[39m=\u001b[39m\u001b[39mNone\u001b[39;00m, trend\u001b[39m=\u001b[39m\u001b[39m\"\u001b[39m\u001b[39mn\u001b[39m\u001b[39m\"\u001b[39m)\n\u001b[0;32m--> 281\u001b[0m value \u001b[39m=\u001b[39m \u001b[39mgetattr\u001b[39;49m(fitted, \u001b[39mself\u001b[39;49m\u001b[39m.\u001b[39;49m_criterion)\n\u001b[1;32m    282\u001b[0m \u001b[39mif\u001b[39;00m value \u001b[39m<\u001b[39m min_value:\n\u001b[1;32m    283\u001b[0m     min_value \u001b[39m=\u001b[39m value\n",
      "File \u001b[0;32m~/opt/anaconda3/envs/cml-fin/lib/python3.10/site-packages/statsmodels/base/wrapper.py:34\u001b[0m, in \u001b[0;36mResultsWrapper.__getattribute__\u001b[0;34m(self, attr)\u001b[0m\n\u001b[1;32m     31\u001b[0m \u001b[39mexcept\u001b[39;00m \u001b[39mAttributeError\u001b[39;00m:\n\u001b[1;32m     32\u001b[0m     \u001b[39mpass\u001b[39;00m\n\u001b[0;32m---> 34\u001b[0m obj \u001b[39m=\u001b[39m \u001b[39mgetattr\u001b[39;49m(results, attr)\n\u001b[1;32m     35\u001b[0m data \u001b[39m=\u001b[39m results\u001b[39m.\u001b[39mmodel\u001b[39m.\u001b[39mdata\n\u001b[1;32m     36\u001b[0m how \u001b[39m=\u001b[39m \u001b[39mself\u001b[39m\u001b[39m.\u001b[39m_wrap_attrs\u001b[39m.\u001b[39mget(attr)\n",
      "File \u001b[0;32m~/opt/anaconda3/envs/cml-fin/lib/python3.10/site-packages/statsmodels/tsa/vector_ar/var_model.py:2312\u001b[0m, in \u001b[0;36mVARResults.bic\u001b[0;34m(self)\u001b[0m\n\u001b[1;32m   2309\u001b[0m \u001b[39m@property\u001b[39m\n\u001b[1;32m   2310\u001b[0m \u001b[39mdef\u001b[39;00m \u001b[39mbic\u001b[39m(\u001b[39mself\u001b[39m):\n\u001b[1;32m   2311\u001b[0m \u001b[39m    \u001b[39m\u001b[39m\"\"\"Bayesian a.k.a. Schwarz info criterion\"\"\"\u001b[39;00m\n\u001b[0;32m-> 2312\u001b[0m     \u001b[39mreturn\u001b[39;00m \u001b[39mself\u001b[39;49m\u001b[39m.\u001b[39;49minfo_criteria[\u001b[39m\"\u001b[39m\u001b[39mbic\u001b[39m\u001b[39m\"\u001b[39m]\n",
      "File \u001b[0;32m~/opt/anaconda3/envs/cml-fin/lib/python3.10/site-packages/pandas/_libs/properties.pyx:36\u001b[0m, in \u001b[0;36mpandas._libs.properties.CachedProperty.__get__\u001b[0;34m()\u001b[0m\n",
      "File \u001b[0;32m~/opt/anaconda3/envs/cml-fin/lib/python3.10/site-packages/statsmodels/tsa/vector_ar/var_model.py:2275\u001b[0m, in \u001b[0;36mVARResults.info_criteria\u001b[0;34m(self)\u001b[0m\n\u001b[1;32m   2273\u001b[0m free_params \u001b[39m=\u001b[39m lag_order \u001b[39m*\u001b[39m neqs \u001b[39m*\u001b[39m\u001b[39m*\u001b[39m \u001b[39m2\u001b[39m \u001b[39m+\u001b[39m neqs \u001b[39m*\u001b[39m \u001b[39mself\u001b[39m\u001b[39m.\u001b[39mk_exog\n\u001b[1;32m   2274\u001b[0m \u001b[39mif\u001b[39;00m \u001b[39mself\u001b[39m\u001b[39m.\u001b[39mdf_resid:\n\u001b[0;32m-> 2275\u001b[0m     ld \u001b[39m=\u001b[39m logdet_symm(\u001b[39mself\u001b[39;49m\u001b[39m.\u001b[39;49msigma_u_mle)\n\u001b[1;32m   2276\u001b[0m \u001b[39melse\u001b[39;00m:\n\u001b[1;32m   2277\u001b[0m     ld \u001b[39m=\u001b[39m \u001b[39m-\u001b[39mnp\u001b[39m.\u001b[39minf\n",
      "File \u001b[0;32m~/opt/anaconda3/envs/cml-fin/lib/python3.10/site-packages/statsmodels/tools/linalg.py:28\u001b[0m, in \u001b[0;36mlogdet_symm\u001b[0;34m(m, check_symm)\u001b[0m\n\u001b[1;32m     26\u001b[0m     \u001b[39mif\u001b[39;00m \u001b[39mnot\u001b[39;00m np\u001b[39m.\u001b[39mall(m \u001b[39m==\u001b[39m m\u001b[39m.\u001b[39mT):  \u001b[39m# would be nice to short-circuit check\u001b[39;00m\n\u001b[1;32m     27\u001b[0m         \u001b[39mraise\u001b[39;00m \u001b[39mValueError\u001b[39;00m(\u001b[39m\"\u001b[39m\u001b[39mm is not symmetric.\u001b[39m\u001b[39m\"\u001b[39m)\n\u001b[0;32m---> 28\u001b[0m c, _ \u001b[39m=\u001b[39m linalg\u001b[39m.\u001b[39;49mcho_factor(m, lower\u001b[39m=\u001b[39;49m\u001b[39mTrue\u001b[39;49;00m)\n\u001b[1;32m     29\u001b[0m \u001b[39mreturn\u001b[39;00m \u001b[39m2\u001b[39m\u001b[39m*\u001b[39mnp\u001b[39m.\u001b[39msum(np\u001b[39m.\u001b[39mlog(c\u001b[39m.\u001b[39mdiagonal()))\n",
      "File \u001b[0;32m~/opt/anaconda3/envs/cml-fin/lib/python3.10/site-packages/scipy/linalg/_decomp_cholesky.py:154\u001b[0m, in \u001b[0;36mcho_factor\u001b[0;34m(a, lower, overwrite_a, check_finite)\u001b[0m\n\u001b[1;32m     94\u001b[0m \u001b[39mdef\u001b[39;00m \u001b[39mcho_factor\u001b[39m(a, lower\u001b[39m=\u001b[39m\u001b[39mFalse\u001b[39;00m, overwrite_a\u001b[39m=\u001b[39m\u001b[39mFalse\u001b[39;00m, check_finite\u001b[39m=\u001b[39m\u001b[39mTrue\u001b[39;00m):\n\u001b[1;32m     95\u001b[0m \u001b[39m    \u001b[39m\u001b[39m\"\"\"\u001b[39;00m\n\u001b[1;32m     96\u001b[0m \u001b[39m    Compute the Cholesky decomposition of a matrix, to use in cho_solve\u001b[39;00m\n\u001b[1;32m     97\u001b[0m \n\u001b[0;32m   (...)\u001b[0m\n\u001b[1;32m    152\u001b[0m \n\u001b[1;32m    153\u001b[0m \u001b[39m    \"\"\"\u001b[39;00m\n\u001b[0;32m--> 154\u001b[0m     c, lower \u001b[39m=\u001b[39m _cholesky(a, lower\u001b[39m=\u001b[39;49mlower, overwrite_a\u001b[39m=\u001b[39;49moverwrite_a, clean\u001b[39m=\u001b[39;49m\u001b[39mFalse\u001b[39;49;00m,\n\u001b[1;32m    155\u001b[0m                          check_finite\u001b[39m=\u001b[39;49mcheck_finite)\n\u001b[1;32m    156\u001b[0m     \u001b[39mreturn\u001b[39;00m c, lower\n",
      "File \u001b[0;32m~/opt/anaconda3/envs/cml-fin/lib/python3.10/site-packages/scipy/linalg/_decomp_cholesky.py:37\u001b[0m, in \u001b[0;36m_cholesky\u001b[0;34m(a, lower, overwrite_a, clean, check_finite)\u001b[0m\n\u001b[1;32m     35\u001b[0m c, info \u001b[39m=\u001b[39m potrf(a1, lower\u001b[39m=\u001b[39mlower, overwrite_a\u001b[39m=\u001b[39moverwrite_a, clean\u001b[39m=\u001b[39mclean)\n\u001b[1;32m     36\u001b[0m \u001b[39mif\u001b[39;00m info \u001b[39m>\u001b[39m \u001b[39m0\u001b[39m:\n\u001b[0;32m---> 37\u001b[0m     \u001b[39mraise\u001b[39;00m LinAlgError(\u001b[39m\"\u001b[39m\u001b[39m%d\u001b[39;00m\u001b[39m-th leading minor of the array is not positive \u001b[39m\u001b[39m\"\u001b[39m\n\u001b[1;32m     38\u001b[0m                       \u001b[39m\"\u001b[39m\u001b[39mdefinite\u001b[39m\u001b[39m\"\u001b[39m \u001b[39m%\u001b[39m info)\n\u001b[1;32m     39\u001b[0m \u001b[39mif\u001b[39;00m info \u001b[39m<\u001b[39m \u001b[39m0\u001b[39m:\n\u001b[1;32m     40\u001b[0m     \u001b[39mraise\u001b[39;00m \u001b[39mValueError\u001b[39;00m(\u001b[39m'\u001b[39m\u001b[39mLAPACK reported an illegal value in \u001b[39m\u001b[39m{}\u001b[39;00m\u001b[39m-th argument\u001b[39m\u001b[39m'\u001b[39m\n\u001b[1;32m     41\u001b[0m                      \u001b[39m'\u001b[39m\u001b[39mon entry to \u001b[39m\u001b[39m\"\u001b[39m\u001b[39mPOTRF\u001b[39m\u001b[39m\"\u001b[39m\u001b[39m.\u001b[39m\u001b[39m'\u001b[39m\u001b[39m.\u001b[39mformat(\u001b[39m-\u001b[39minfo))\n",
      "\u001b[0;31mLinAlgError\u001b[0m: 60-th leading minor of the array is not positive definite"
     ]
    }
   ],
   "source": [
    "start = 0\n",
    "end = start + start_window\n",
    "\n",
    "# for step in range(0, len(target_df) - start_window, 1):\n",
    "\n",
    "step = 0\n",
    "Xt = target_df.iloc[start:(end + step), :]\n",
    "\n",
    "var_lingam = lingam.VARLiNGAM(lags=p)\n",
    "var_lingam_fit = var_lingam.fit(Xt)"
   ]
  },
  {
   "cell_type": "code",
   "execution_count": 41,
   "metadata": {},
   "outputs": [
    {
     "ename": "LinAlgError",
     "evalue": "60-th leading minor of the array is not positive definite",
     "output_type": "error",
     "traceback": [
      "\u001b[0;31m---------------------------------------------------------------------------\u001b[0m",
      "\u001b[0;31mLinAlgError\u001b[0m                               Traceback (most recent call last)",
      "\u001b[1;32m/Users/danieloliveira/Documents/Daniel/codes/cml-fin/src/etfs_rolling_causal_graph.ipynb Cell 8\u001b[0m line \u001b[0;36m2\n\u001b[1;32m      <a href='vscode-notebook-cell:/Users/danieloliveira/Documents/Daniel/codes/cml-fin/src/etfs_rolling_causal_graph.ipynb#X12sZmlsZQ%3D%3D?line=0'>1</a>\u001b[0m var_lingam \u001b[39m=\u001b[39m lingam\u001b[39m.\u001b[39mVARLiNGAM(lags\u001b[39m=\u001b[39mp)\n\u001b[0;32m----> <a href='vscode-notebook-cell:/Users/danieloliveira/Documents/Daniel/codes/cml-fin/src/etfs_rolling_causal_graph.ipynb#X12sZmlsZQ%3D%3D?line=1'>2</a>\u001b[0m var_lingam_fit \u001b[39m=\u001b[39m var_lingam\u001b[39m.\u001b[39;49mfit(Xt)\n",
      "File \u001b[0;32m~/opt/anaconda3/envs/cml-fin/lib/python3.10/site-packages/lingam/var_lingam.py:95\u001b[0m, in \u001b[0;36mVARLiNGAM.fit\u001b[0;34m(self, X)\u001b[0m\n\u001b[1;32m     92\u001b[0m M_taus \u001b[39m=\u001b[39m \u001b[39mself\u001b[39m\u001b[39m.\u001b[39m_ar_coefs\n\u001b[1;32m     94\u001b[0m \u001b[39mif\u001b[39;00m M_taus \u001b[39mis\u001b[39;00m \u001b[39mNone\u001b[39;00m:\n\u001b[0;32m---> 95\u001b[0m     M_taus, lags, residuals \u001b[39m=\u001b[39m \u001b[39mself\u001b[39;49m\u001b[39m.\u001b[39;49m_estimate_var_coefs(X)\n\u001b[1;32m     96\u001b[0m \u001b[39melse\u001b[39;00m:\n\u001b[1;32m     97\u001b[0m     lags \u001b[39m=\u001b[39m M_taus\u001b[39m.\u001b[39mshape[\u001b[39m0\u001b[39m]\n",
      "File \u001b[0;32m~/opt/anaconda3/envs/cml-fin/lib/python3.10/site-packages/lingam/var_lingam.py:281\u001b[0m, in \u001b[0;36mVARLiNGAM._estimate_var_coefs\u001b[0;34m(self, X)\u001b[0m\n\u001b[1;32m    278\u001b[0m var \u001b[39m=\u001b[39m VAR(X)\n\u001b[1;32m    279\u001b[0m fitted \u001b[39m=\u001b[39m var\u001b[39m.\u001b[39mfit(maxlags\u001b[39m=\u001b[39mlag, ic\u001b[39m=\u001b[39m\u001b[39mNone\u001b[39;00m, trend\u001b[39m=\u001b[39m\u001b[39m\"\u001b[39m\u001b[39mn\u001b[39m\u001b[39m\"\u001b[39m)\n\u001b[0;32m--> 281\u001b[0m value \u001b[39m=\u001b[39m \u001b[39mgetattr\u001b[39;49m(fitted, \u001b[39mself\u001b[39;49m\u001b[39m.\u001b[39;49m_criterion)\n\u001b[1;32m    282\u001b[0m \u001b[39mif\u001b[39;00m value \u001b[39m<\u001b[39m min_value:\n\u001b[1;32m    283\u001b[0m     min_value \u001b[39m=\u001b[39m value\n",
      "File \u001b[0;32m~/opt/anaconda3/envs/cml-fin/lib/python3.10/site-packages/statsmodels/base/wrapper.py:34\u001b[0m, in \u001b[0;36mResultsWrapper.__getattribute__\u001b[0;34m(self, attr)\u001b[0m\n\u001b[1;32m     31\u001b[0m \u001b[39mexcept\u001b[39;00m \u001b[39mAttributeError\u001b[39;00m:\n\u001b[1;32m     32\u001b[0m     \u001b[39mpass\u001b[39;00m\n\u001b[0;32m---> 34\u001b[0m obj \u001b[39m=\u001b[39m \u001b[39mgetattr\u001b[39;49m(results, attr)\n\u001b[1;32m     35\u001b[0m data \u001b[39m=\u001b[39m results\u001b[39m.\u001b[39mmodel\u001b[39m.\u001b[39mdata\n\u001b[1;32m     36\u001b[0m how \u001b[39m=\u001b[39m \u001b[39mself\u001b[39m\u001b[39m.\u001b[39m_wrap_attrs\u001b[39m.\u001b[39mget(attr)\n",
      "File \u001b[0;32m~/opt/anaconda3/envs/cml-fin/lib/python3.10/site-packages/statsmodels/tsa/vector_ar/var_model.py:2312\u001b[0m, in \u001b[0;36mVARResults.bic\u001b[0;34m(self)\u001b[0m\n\u001b[1;32m   2309\u001b[0m \u001b[39m@property\u001b[39m\n\u001b[1;32m   2310\u001b[0m \u001b[39mdef\u001b[39;00m \u001b[39mbic\u001b[39m(\u001b[39mself\u001b[39m):\n\u001b[1;32m   2311\u001b[0m \u001b[39m    \u001b[39m\u001b[39m\"\"\"Bayesian a.k.a. Schwarz info criterion\"\"\"\u001b[39;00m\n\u001b[0;32m-> 2312\u001b[0m     \u001b[39mreturn\u001b[39;00m \u001b[39mself\u001b[39;49m\u001b[39m.\u001b[39;49minfo_criteria[\u001b[39m\"\u001b[39m\u001b[39mbic\u001b[39m\u001b[39m\"\u001b[39m]\n",
      "File \u001b[0;32m~/opt/anaconda3/envs/cml-fin/lib/python3.10/site-packages/pandas/_libs/properties.pyx:36\u001b[0m, in \u001b[0;36mpandas._libs.properties.CachedProperty.__get__\u001b[0;34m()\u001b[0m\n",
      "File \u001b[0;32m~/opt/anaconda3/envs/cml-fin/lib/python3.10/site-packages/statsmodels/tsa/vector_ar/var_model.py:2275\u001b[0m, in \u001b[0;36mVARResults.info_criteria\u001b[0;34m(self)\u001b[0m\n\u001b[1;32m   2273\u001b[0m free_params \u001b[39m=\u001b[39m lag_order \u001b[39m*\u001b[39m neqs \u001b[39m*\u001b[39m\u001b[39m*\u001b[39m \u001b[39m2\u001b[39m \u001b[39m+\u001b[39m neqs \u001b[39m*\u001b[39m \u001b[39mself\u001b[39m\u001b[39m.\u001b[39mk_exog\n\u001b[1;32m   2274\u001b[0m \u001b[39mif\u001b[39;00m \u001b[39mself\u001b[39m\u001b[39m.\u001b[39mdf_resid:\n\u001b[0;32m-> 2275\u001b[0m     ld \u001b[39m=\u001b[39m logdet_symm(\u001b[39mself\u001b[39;49m\u001b[39m.\u001b[39;49msigma_u_mle)\n\u001b[1;32m   2276\u001b[0m \u001b[39melse\u001b[39;00m:\n\u001b[1;32m   2277\u001b[0m     ld \u001b[39m=\u001b[39m \u001b[39m-\u001b[39mnp\u001b[39m.\u001b[39minf\n",
      "File \u001b[0;32m~/opt/anaconda3/envs/cml-fin/lib/python3.10/site-packages/statsmodels/tools/linalg.py:28\u001b[0m, in \u001b[0;36mlogdet_symm\u001b[0;34m(m, check_symm)\u001b[0m\n\u001b[1;32m     26\u001b[0m     \u001b[39mif\u001b[39;00m \u001b[39mnot\u001b[39;00m np\u001b[39m.\u001b[39mall(m \u001b[39m==\u001b[39m m\u001b[39m.\u001b[39mT):  \u001b[39m# would be nice to short-circuit check\u001b[39;00m\n\u001b[1;32m     27\u001b[0m         \u001b[39mraise\u001b[39;00m \u001b[39mValueError\u001b[39;00m(\u001b[39m\"\u001b[39m\u001b[39mm is not symmetric.\u001b[39m\u001b[39m\"\u001b[39m)\n\u001b[0;32m---> 28\u001b[0m c, _ \u001b[39m=\u001b[39m linalg\u001b[39m.\u001b[39;49mcho_factor(m, lower\u001b[39m=\u001b[39;49m\u001b[39mTrue\u001b[39;49;00m)\n\u001b[1;32m     29\u001b[0m \u001b[39mreturn\u001b[39;00m \u001b[39m2\u001b[39m\u001b[39m*\u001b[39mnp\u001b[39m.\u001b[39msum(np\u001b[39m.\u001b[39mlog(c\u001b[39m.\u001b[39mdiagonal()))\n",
      "File \u001b[0;32m~/opt/anaconda3/envs/cml-fin/lib/python3.10/site-packages/scipy/linalg/_decomp_cholesky.py:154\u001b[0m, in \u001b[0;36mcho_factor\u001b[0;34m(a, lower, overwrite_a, check_finite)\u001b[0m\n\u001b[1;32m     94\u001b[0m \u001b[39mdef\u001b[39;00m \u001b[39mcho_factor\u001b[39m(a, lower\u001b[39m=\u001b[39m\u001b[39mFalse\u001b[39;00m, overwrite_a\u001b[39m=\u001b[39m\u001b[39mFalse\u001b[39;00m, check_finite\u001b[39m=\u001b[39m\u001b[39mTrue\u001b[39;00m):\n\u001b[1;32m     95\u001b[0m \u001b[39m    \u001b[39m\u001b[39m\"\"\"\u001b[39;00m\n\u001b[1;32m     96\u001b[0m \u001b[39m    Compute the Cholesky decomposition of a matrix, to use in cho_solve\u001b[39;00m\n\u001b[1;32m     97\u001b[0m \n\u001b[0;32m   (...)\u001b[0m\n\u001b[1;32m    152\u001b[0m \n\u001b[1;32m    153\u001b[0m \u001b[39m    \"\"\"\u001b[39;00m\n\u001b[0;32m--> 154\u001b[0m     c, lower \u001b[39m=\u001b[39m _cholesky(a, lower\u001b[39m=\u001b[39;49mlower, overwrite_a\u001b[39m=\u001b[39;49moverwrite_a, clean\u001b[39m=\u001b[39;49m\u001b[39mFalse\u001b[39;49;00m,\n\u001b[1;32m    155\u001b[0m                          check_finite\u001b[39m=\u001b[39;49mcheck_finite)\n\u001b[1;32m    156\u001b[0m     \u001b[39mreturn\u001b[39;00m c, lower\n",
      "File \u001b[0;32m~/opt/anaconda3/envs/cml-fin/lib/python3.10/site-packages/scipy/linalg/_decomp_cholesky.py:37\u001b[0m, in \u001b[0;36m_cholesky\u001b[0;34m(a, lower, overwrite_a, clean, check_finite)\u001b[0m\n\u001b[1;32m     35\u001b[0m c, info \u001b[39m=\u001b[39m potrf(a1, lower\u001b[39m=\u001b[39mlower, overwrite_a\u001b[39m=\u001b[39moverwrite_a, clean\u001b[39m=\u001b[39mclean)\n\u001b[1;32m     36\u001b[0m \u001b[39mif\u001b[39;00m info \u001b[39m>\u001b[39m \u001b[39m0\u001b[39m:\n\u001b[0;32m---> 37\u001b[0m     \u001b[39mraise\u001b[39;00m LinAlgError(\u001b[39m\"\u001b[39m\u001b[39m%d\u001b[39;00m\u001b[39m-th leading minor of the array is not positive \u001b[39m\u001b[39m\"\u001b[39m\n\u001b[1;32m     38\u001b[0m                       \u001b[39m\"\u001b[39m\u001b[39mdefinite\u001b[39m\u001b[39m\"\u001b[39m \u001b[39m%\u001b[39m info)\n\u001b[1;32m     39\u001b[0m \u001b[39mif\u001b[39;00m info \u001b[39m<\u001b[39m \u001b[39m0\u001b[39m:\n\u001b[1;32m     40\u001b[0m     \u001b[39mraise\u001b[39;00m \u001b[39mValueError\u001b[39;00m(\u001b[39m'\u001b[39m\u001b[39mLAPACK reported an illegal value in \u001b[39m\u001b[39m{}\u001b[39;00m\u001b[39m-th argument\u001b[39m\u001b[39m'\u001b[39m\n\u001b[1;32m     41\u001b[0m                      \u001b[39m'\u001b[39m\u001b[39mon entry to \u001b[39m\u001b[39m\"\u001b[39m\u001b[39mPOTRF\u001b[39m\u001b[39m\"\u001b[39m\u001b[39m.\u001b[39m\u001b[39m'\u001b[39m\u001b[39m.\u001b[39mformat(\u001b[39m-\u001b[39minfo))\n",
      "\u001b[0;31mLinAlgError\u001b[0m: 60-th leading minor of the array is not positive definite"
     ]
    }
   ],
   "source": [
    "var_lingam = lingam.VARLiNGAM(lags=p)\n",
    "var_lingam_fit = var_lingam.fit(Xt)"
   ]
  },
  {
   "cell_type": "code",
   "execution_count": null,
   "metadata": {},
   "outputs": [],
   "source": []
  }
 ],
 "metadata": {
  "kernelspec": {
   "display_name": "cml-fin",
   "language": "python",
   "name": "python3"
  },
  "language_info": {
   "codemirror_mode": {
    "name": "ipython",
    "version": 3
   },
   "file_extension": ".py",
   "mimetype": "text/x-python",
   "name": "python",
   "nbconvert_exporter": "python",
   "pygments_lexer": "ipython3",
   "version": "3.10.0"
  },
  "orig_nbformat": 4
 },
 "nbformat": 4,
 "nbformat_minor": 2
}
