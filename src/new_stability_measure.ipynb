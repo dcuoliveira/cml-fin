{
 "cells": [
  {
   "cell_type": "code",
   "execution_count": 12,
   "metadata": {},
   "outputs": [],
   "source": [
    "import os\n",
    "import pandas as pd\n",
    "import glob\n",
    "import matplotlib.pyplot as plt\n",
    "import seaborn as sns\n",
    "import warnings\n",
    "import numpy as np\n",
    "\n",
    "from utils.conn_data import load_pickle\n",
    "\n",
    "warnings.filterwarnings('ignore')\n",
    "\n",
    "plt.style.use('ggplot')"
   ]
  },
  {
   "cell_type": "code",
   "execution_count": 13,
   "metadata": {},
   "outputs": [],
   "source": [
    "outputs_path = os.path.join(os.path.dirname(os.getcwd()), \"src\", \"data\", \"outputs\")\n",
    "des = pd.read_csv(os.path.join(os.path.dirname(os.getcwd()), \"src\", 'data', 'utils', 'fredmd_description.csv'), sep=';')\n",
    "\n",
    "# fs_methods = [\"lasso\", \"multivariate-granger\", \"pairwise-granger\", \"var-lingam\", \"dynotears\"]\n",
    "fs_methods = [\"lasso_rollingcluster\", \"var-lingam_rollingcluster\"]\n",
    "metric_names = [\"stability\", \"mse\", \"mae\"]\n",
    "etf_focus = None\n",
    "stability_threshold = 0.8\n",
    "plot_ts = False"
   ]
  },
  {
   "cell_type": "code",
   "execution_count": 15,
   "metadata": {},
   "outputs": [],
   "source": [
    "all_parents = []\n",
    "for fs in fs_methods:\n",
    "    results_files = glob.glob(os.path.join(outputs_path, fs, \"etfs_macro_large\", \"*.pickle\"))\n",
    "\n",
    "    for file in results_files:\n",
    "        etf = file.split(fs)[-1].split(\"/\")[-1].split(\"_\")[0]\n",
    "        obj = load_pickle(path=file)\n",
    "        parents_of_target_df = obj[\"parents_of_target\"]\n",
    "\n",
    "        parents_of_target_df[\"etf\"] = etf\n",
    "        parents_of_target_df[\"fs\"] = fs\n",
    "\n",
    "        all_parents.append(parents_of_target_df)\n",
    "all_parents_df = pd.concat(all_parents)"
   ]
  },
  {
   "cell_type": "code",
   "execution_count": 16,
   "metadata": {},
   "outputs": [],
   "source": [
    "ticker = \"SPY\"\n",
    "etf_df = all_parents_df[(all_parents_df[\"etf\"] == ticker)]\n",
    "etf_df.loc[:, \"date\"] = [dtref.strftime(\"%Y-%m-%d\") for dtref in etf_df[\"date\"]]\n",
    "\n",
    "etf_df = etf_df.sort_values(by=[\"date\"])\n",
    "all_scores = []\n",
    "for fs in etf_df[\"fs\"].unique():\n",
    "    fs_etf_df = etf_df[etf_df[\"fs\"] == fs]\n",
    "\n",
    "    score = []\n",
    "    for i, date in enumerate(fs_etf_df[\"date\"].unique()):\n",
    "        if i == 0:\n",
    "            F_t = F_tm1 = set(fs_etf_df.loc[fs_etf_df[\"date\"] == date][\"cluster\"].dropna().values)\n",
    "            s = 0\n",
    "        else:\n",
    "            F_t = set(fs_etf_df.loc[fs_etf_df[\"date\"] == date][\"cluster\"].dropna().values)\n",
    "            s = len(F_tm1.intersection(F_t)) / len(F_tm1.union(F_t)) if len(F_tm1.union(F_t)) != 0 else np.nan\n",
    "            F_tm1 = F_t\n",
    "        score.append({\"date\": date, \"score\": s})\n",
    "    score_df = pd.DataFrame(score)\n",
    "    score_df[\"fs\"] = fs\n",
    "\n",
    "    melt_score_df = score_df.melt([\"date\", \"fs\"])\n",
    "    all_scores.append(melt_score_df)\n",
    "all_scores_df = pd.concat(all_scores).drop(\"variable\", axis=1)"
   ]
  },
  {
   "cell_type": "code",
   "execution_count": 17,
   "metadata": {},
   "outputs": [
    {
     "data": {
      "text/html": [
       "<div>\n",
       "<style scoped>\n",
       "    .dataframe tbody tr th:only-of-type {\n",
       "        vertical-align: middle;\n",
       "    }\n",
       "\n",
       "    .dataframe tbody tr th {\n",
       "        vertical-align: top;\n",
       "    }\n",
       "\n",
       "    .dataframe thead th {\n",
       "        text-align: right;\n",
       "    }\n",
       "</style>\n",
       "<table border=\"1\" class=\"dataframe\">\n",
       "  <thead>\n",
       "    <tr style=\"text-align: right;\">\n",
       "      <th></th>\n",
       "      <th>value</th>\n",
       "    </tr>\n",
       "    <tr>\n",
       "      <th>fs</th>\n",
       "      <th></th>\n",
       "    </tr>\n",
       "  </thead>\n",
       "  <tbody>\n",
       "    <tr>\n",
       "      <th>lasso_rollingcluster</th>\n",
       "      <td>0.058588</td>\n",
       "    </tr>\n",
       "    <tr>\n",
       "      <th>var-lingam_rollingcluster</th>\n",
       "      <td>0.051020</td>\n",
       "    </tr>\n",
       "  </tbody>\n",
       "</table>\n",
       "</div>"
      ],
      "text/plain": [
       "                              value\n",
       "fs                                 \n",
       "lasso_rollingcluster       0.058588\n",
       "var-lingam_rollingcluster  0.051020"
      ]
     },
     "execution_count": 17,
     "metadata": {},
     "output_type": "execute_result"
    }
   ],
   "source": [
    "all_scores_df.groupby([\"fs\"])[[\"value\"]].mean().sort_values(by=[\"value\"], ascending=False)"
   ]
  },
  {
   "cell_type": "code",
   "execution_count": 18,
   "metadata": {},
   "outputs": [
    {
     "data": {
      "text/plain": [
       "Text(0, 0.5, 'Frequency')"
      ]
     },
     "execution_count": 18,
     "metadata": {},
     "output_type": "execute_result"
    },
    {
     "data": {
      "image/png": "[encoded data removed]",
      "text/plain": [
       "<Figure size 1080x720 with 1 Axes>"
      ]
     },
     "metadata": {},
     "output_type": "display_data"
    }
   ],
   "source": [
    "# seaborn sobrebosed histograms by fs group on the smae plot\n",
    "fig, ax = plt.subplots(figsize=(15, 10))\n",
    "sns.histplot(data=all_scores_df, x=\"value\", hue=\"fs\", multiple=\"dodge\", ax=ax)\n",
    "ax.set_title(\"Stability score distribution by fs method\")\n",
    "ax.set_xlabel(\"Stability score\")\n",
    "ax.set_ylabel(\"Frequency\")"
   ]
  },
  {
   "cell_type": "code",
   "execution_count": null,
   "metadata": {},
   "outputs": [],
   "source": []
  }
 ],
 "metadata": {
  "kernelspec": {
   "display_name": "cml-fin",
   "language": "python",
   "name": "python3"
  },
  "language_info": {
   "codemirror_mode": {
    "name": "ipython",
    "version": 3
   },
   "file_extension": ".py",
   "mimetype": "text/x-python",
   "name": "python",
   "nbconvert_exporter": "python",
   "pygments_lexer": "ipython3",
   "version": "3.8.8"
  }
 },
 "nbformat": 4,
 "nbformat_minor": 2
}
