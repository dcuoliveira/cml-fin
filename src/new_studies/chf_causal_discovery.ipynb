{
 "cells": [
  {
   "cell_type": "code",
   "execution_count": 1,
   "metadata": {},
   "outputs": [
    {
     "name": "stderr",
     "output_type": "stream",
     "text": [
      "/Users/danieloliveira/opt/anaconda3/envs/cml-fin/lib/python3.8/site-packages/tqdm/auto.py:21: TqdmWarning: IProgress not found. Please update jupyter and ipywidgets. See https://ipywidgets.readthedocs.io/en/stable/user_install.html\n",
      "  from .autonotebook import tqdm as notebook_tqdm\n"
     ]
    }
   ],
   "source": [
    "import pandas as pd\n",
    "import os\n",
    "import matplotlib.pyplot as plt\n",
    "import lingam\n",
    "from causalnex.structure.dynotears import from_pandas_dynamic\n",
    "from tigramite import data_processing as pp\n",
    "from tigramite.independence_tests import cmiknn\n",
    "from tigramite.pcmci import PCMCI\n",
    "from statsmodels.tsa.api import VAR\n",
    "from statsmodels.tsa.stattools import grangercausalitytests\n",
    "\n",
    "plt.style.use('ggplot')"
   ]
  },
  {
   "cell_type": "code",
   "execution_count": 2,
   "metadata": {},
   "outputs": [],
   "source": [
    "data = pd.read_csv(os.path.join(os.getcwd(), 'processedData', 'monetary-policy-processed.csv'))\n",
    "data = data.drop([\"Unnamed: 0\"], axis=1)\n",
    "data[\"date\"] = pd.to_datetime(data[\"date\"])\n",
    "data.set_index(\"date\", inplace=True)\n",
    "\n",
    "y = data[[\"ldEXME\"]]\n",
    "X = data.drop([\"ldEXME\"], axis=1)"
   ]
  },
  {
   "cell_type": "code",
   "execution_count": 3,
   "metadata": {},
   "outputs": [
    {
     "data": {
      "text/html": [
       "<div>\n",
       "<style scoped>\n",
       "    .dataframe tbody tr th:only-of-type {\n",
       "        vertical-align: middle;\n",
       "    }\n",
       "\n",
       "    .dataframe tbody tr th {\n",
       "        vertical-align: top;\n",
       "    }\n",
       "\n",
       "    .dataframe thead th {\n",
       "        text-align: right;\n",
       "    }\n",
       "</style>\n",
       "<table border=\"1\" class=\"dataframe\">\n",
       "  <thead>\n",
       "    <tr style=\"text-align: right;\">\n",
       "      <th></th>\n",
       "      <th>dCMR</th>\n",
       "      <th>ldFCIr</th>\n",
       "      <th>ldRIMFr</th>\n",
       "      <th>ldMAr</th>\n",
       "      <th>ldCHFr</th>\n",
       "      <th>ldtotOAr</th>\n",
       "      <th>ldGDPch</th>\n",
       "      <th>ldGDPeu</th>\n",
       "      <th>dCPI</th>\n",
       "    </tr>\n",
       "    <tr>\n",
       "      <th>date</th>\n",
       "      <th></th>\n",
       "      <th></th>\n",
       "      <th></th>\n",
       "      <th></th>\n",
       "      <th></th>\n",
       "      <th></th>\n",
       "      <th></th>\n",
       "      <th></th>\n",
       "      <th></th>\n",
       "    </tr>\n",
       "  </thead>\n",
       "  <tbody>\n",
       "    <tr>\n",
       "      <th>2016-09-01</th>\n",
       "      <td>7.281406</td>\n",
       "      <td>-0.022146</td>\n",
       "      <td>-0.211913</td>\n",
       "      <td>-0.156114</td>\n",
       "      <td>-0.036033</td>\n",
       "      <td>-0.090568</td>\n",
       "      <td>-0.706264</td>\n",
       "      <td>-0.125753</td>\n",
       "      <td>0.033092</td>\n",
       "    </tr>\n",
       "    <tr>\n",
       "      <th>2016-10-01</th>\n",
       "      <td>0.292451</td>\n",
       "      <td>-0.018670</td>\n",
       "      <td>0.216994</td>\n",
       "      <td>-0.062544</td>\n",
       "      <td>0.227075</td>\n",
       "      <td>-0.145615</td>\n",
       "      <td>-0.121392</td>\n",
       "      <td>-0.127636</td>\n",
       "      <td>0.022964</td>\n",
       "    </tr>\n",
       "    <tr>\n",
       "      <th>2016-11-01</th>\n",
       "      <td>-0.110758</td>\n",
       "      <td>0.049250</td>\n",
       "      <td>-0.008647</td>\n",
       "      <td>2.409139</td>\n",
       "      <td>-0.413748</td>\n",
       "      <td>-0.074912</td>\n",
       "      <td>0.469814</td>\n",
       "      <td>-0.129512</td>\n",
       "      <td>0.058117</td>\n",
       "    </tr>\n",
       "    <tr>\n",
       "      <th>2016-12-01</th>\n",
       "      <td>0.023645</td>\n",
       "      <td>-0.005983</td>\n",
       "      <td>-0.066078</td>\n",
       "      <td>-0.686351</td>\n",
       "      <td>-0.104817</td>\n",
       "      <td>-0.088863</td>\n",
       "      <td>-0.355198</td>\n",
       "      <td>-0.131379</td>\n",
       "      <td>-7.767846</td>\n",
       "    </tr>\n",
       "    <tr>\n",
       "      <th>2017-01-01</th>\n",
       "      <td>0.023645</td>\n",
       "      <td>-0.092584</td>\n",
       "      <td>0.331965</td>\n",
       "      <td>0.247863</td>\n",
       "      <td>0.348206</td>\n",
       "      <td>-0.166479</td>\n",
       "      <td>-0.103644</td>\n",
       "      <td>-0.133239</td>\n",
       "      <td>0.159838</td>\n",
       "    </tr>\n",
       "  </tbody>\n",
       "</table>\n",
       "</div>"
      ],
      "text/plain": [
       "                dCMR    ldFCIr   ldRIMFr     ldMAr    ldCHFr  ldtotOAr  \\\n",
       "date                                                                     \n",
       "2016-09-01  7.281406 -0.022146 -0.211913 -0.156114 -0.036033 -0.090568   \n",
       "2016-10-01  0.292451 -0.018670  0.216994 -0.062544  0.227075 -0.145615   \n",
       "2016-11-01 -0.110758  0.049250 -0.008647  2.409139 -0.413748 -0.074912   \n",
       "2016-12-01  0.023645 -0.005983 -0.066078 -0.686351 -0.104817 -0.088863   \n",
       "2017-01-01  0.023645 -0.092584  0.331965  0.247863  0.348206 -0.166479   \n",
       "\n",
       "             ldGDPch   ldGDPeu      dCPI  \n",
       "date                                      \n",
       "2016-09-01 -0.706264 -0.125753  0.033092  \n",
       "2016-10-01 -0.121392 -0.127636  0.022964  \n",
       "2016-11-01  0.469814 -0.129512  0.058117  \n",
       "2016-12-01 -0.355198 -0.131379 -7.767846  \n",
       "2017-01-01 -0.103644 -0.133239  0.159838  "
      ]
     },
     "execution_count": 3,
     "metadata": {},
     "output_type": "execute_result"
    }
   ],
   "source": [
    "X.tail()"
   ]
  },
  {
   "cell_type": "code",
   "execution_count": 4,
   "metadata": {},
   "outputs": [
    {
     "data": {
      "text/html": [
       "<div>\n",
       "<style scoped>\n",
       "    .dataframe tbody tr th:only-of-type {\n",
       "        vertical-align: middle;\n",
       "    }\n",
       "\n",
       "    .dataframe tbody tr th {\n",
       "        vertical-align: top;\n",
       "    }\n",
       "\n",
       "    .dataframe thead th {\n",
       "        text-align: right;\n",
       "    }\n",
       "</style>\n",
       "<table border=\"1\" class=\"dataframe\">\n",
       "  <thead>\n",
       "    <tr style=\"text-align: right;\">\n",
       "      <th></th>\n",
       "      <th>ldEXME</th>\n",
       "    </tr>\n",
       "    <tr>\n",
       "      <th>date</th>\n",
       "      <th></th>\n",
       "    </tr>\n",
       "  </thead>\n",
       "  <tbody>\n",
       "    <tr>\n",
       "      <th>2016-09-01</th>\n",
       "      <td>0.543000</td>\n",
       "    </tr>\n",
       "    <tr>\n",
       "      <th>2016-10-01</th>\n",
       "      <td>-0.100097</td>\n",
       "    </tr>\n",
       "    <tr>\n",
       "      <th>2016-11-01</th>\n",
       "      <td>0.128386</td>\n",
       "    </tr>\n",
       "    <tr>\n",
       "      <th>2016-12-01</th>\n",
       "      <td>0.124207</td>\n",
       "    </tr>\n",
       "    <tr>\n",
       "      <th>2017-01-01</th>\n",
       "      <td>0.325720</td>\n",
       "    </tr>\n",
       "  </tbody>\n",
       "</table>\n",
       "</div>"
      ],
      "text/plain": [
       "              ldEXME\n",
       "date                \n",
       "2016-09-01  0.543000\n",
       "2016-10-01 -0.100097\n",
       "2016-11-01  0.128386\n",
       "2016-12-01  0.124207\n",
       "2017-01-01  0.325720"
      ]
     },
     "execution_count": 4,
     "metadata": {},
     "output_type": "execute_result"
    }
   ],
   "source": [
    "y.tail()"
   ]
  },
  {
   "cell_type": "code",
   "execution_count": 5,
   "metadata": {},
   "outputs": [
    {
     "data": {
      "text/plain": [
       "<Axes: xlabel='date'>"
      ]
     },
     "execution_count": 5,
     "metadata": {},
     "output_type": "execute_result"
    },
    {
     "data": {
      "image/png": "[encoded data removed]",
      "text/plain": [
       "<Figure size 1000x400 with 1 Axes>"
      ]
     },
     "metadata": {},
     "output_type": "display_data"
    }
   ],
   "source": [
    "y.plot(figsize=(10, 4))"
   ]
  },
  {
   "cell_type": "code",
   "execution_count": 6,
   "metadata": {},
   "outputs": [
    {
     "data": {
      "text/plain": [
       "<Axes: xlabel='date'>"
      ]
     },
     "execution_count": 6,
     "metadata": {},
     "output_type": "execute_result"
    },
    {
     "data": {
      "image/png": "[encoded data removed]",
      "text/plain": [
       "<Figure size 1000x400 with 1 Axes>"
      ]
     },
     "metadata": {},
     "output_type": "display_data"
    }
   ],
   "source": [
    "X.plot(figsize=(10, 4))"
   ]
  },
  {
   "cell_type": "markdown",
   "metadata": {},
   "source": [
    "## 1) VAR-LiNGAM"
   ]
  },
  {
   "cell_type": "code",
   "execution_count": 7,
   "metadata": {},
   "outputs": [],
   "source": [
    "p = 4\n",
    "target = \"ldEXME\"\n",
    "data = pd.concat([y, X], axis=1)\n",
    "\n",
    "# run VAR-LiNGAM\n",
    "var_lingam = lingam.VARLiNGAM(lags=p, criterion=\"none\")\n",
    "var_lingam_fit = var_lingam.fit(data)\n",
    "\n",
    "# map coefficients to names\n",
    "labels = {}\n",
    "Bs = []\n",
    "chosen_p = len(var_lingam_fit._adjacency_matrices)\n",
    "for i in range(chosen_p):\n",
    "\n",
    "    var_names = []\n",
    "    for colname in data.columns:\n",
    "        if i == 0:\n",
    "            var_names.append(f\"{colname}(t)\")\n",
    "        else:\n",
    "            var_names.append(f\"{colname}(t-{i})\")\n",
    "    labels[f'labels{i}'] = var_names\n",
    "\n",
    "    B = var_lingam_fit._adjacency_matrices[i]\n",
    "    B_df = pd.DataFrame(B, columns=labels[f'labels{i}'] , index=labels['labels0'] )\n",
    "\n",
    "    Bs.append(pd.DataFrame(B_df.loc[f\"{target}(t)\"]).reset_index().melt([f\"{target}(t)\"]).rename(columns={f\"{target}(t)\": \"betas\"}).drop(\"variable\", axis=1)[[\"value\", \"betas\"]])"
   ]
  },
  {
   "cell_type": "code",
   "execution_count": 8,
   "metadata": {},
   "outputs": [
    {
     "data": {
      "text/html": [
       "<div>\n",
       "<style scoped>\n",
       "    .dataframe tbody tr th:only-of-type {\n",
       "        vertical-align: middle;\n",
       "    }\n",
       "\n",
       "    .dataframe tbody tr th {\n",
       "        vertical-align: top;\n",
       "    }\n",
       "\n",
       "    .dataframe thead th {\n",
       "        text-align: right;\n",
       "    }\n",
       "</style>\n",
       "<table border=\"1\" class=\"dataframe\">\n",
       "  <thead>\n",
       "    <tr style=\"text-align: right;\">\n",
       "      <th></th>\n",
       "      <th>value</th>\n",
       "      <th>betas</th>\n",
       "      <th>value</th>\n",
       "      <th>betas</th>\n",
       "      <th>value</th>\n",
       "      <th>betas</th>\n",
       "      <th>value</th>\n",
       "      <th>betas</th>\n",
       "      <th>value</th>\n",
       "      <th>betas</th>\n",
       "    </tr>\n",
       "  </thead>\n",
       "  <tbody>\n",
       "    <tr>\n",
       "      <th>0</th>\n",
       "      <td>ldEXME(t)</td>\n",
       "      <td>0.000000</td>\n",
       "      <td>ldEXME(t-1)</td>\n",
       "      <td>-0.644364</td>\n",
       "      <td>ldEXME(t-2)</td>\n",
       "      <td>0.100669</td>\n",
       "      <td>ldEXME(t-3)</td>\n",
       "      <td>0.0</td>\n",
       "      <td>ldEXME(t-4)</td>\n",
       "      <td>0.0</td>\n",
       "    </tr>\n",
       "    <tr>\n",
       "      <th>1</th>\n",
       "      <td>dCMR(t)</td>\n",
       "      <td>0.000000</td>\n",
       "      <td>dCMR(t-1)</td>\n",
       "      <td>0.000000</td>\n",
       "      <td>dCMR(t-2)</td>\n",
       "      <td>0.000000</td>\n",
       "      <td>dCMR(t-3)</td>\n",
       "      <td>0.0</td>\n",
       "      <td>dCMR(t-4)</td>\n",
       "      <td>0.0</td>\n",
       "    </tr>\n",
       "    <tr>\n",
       "      <th>2</th>\n",
       "      <td>ldFCIr(t)</td>\n",
       "      <td>0.000000</td>\n",
       "      <td>ldFCIr(t-1)</td>\n",
       "      <td>0.000000</td>\n",
       "      <td>ldFCIr(t-2)</td>\n",
       "      <td>0.000000</td>\n",
       "      <td>ldFCIr(t-3)</td>\n",
       "      <td>0.0</td>\n",
       "      <td>ldFCIr(t-4)</td>\n",
       "      <td>0.0</td>\n",
       "    </tr>\n",
       "    <tr>\n",
       "      <th>3</th>\n",
       "      <td>ldRIMFr(t)</td>\n",
       "      <td>0.000000</td>\n",
       "      <td>ldRIMFr(t-1)</td>\n",
       "      <td>0.000000</td>\n",
       "      <td>ldRIMFr(t-2)</td>\n",
       "      <td>0.000000</td>\n",
       "      <td>ldRIMFr(t-3)</td>\n",
       "      <td>0.0</td>\n",
       "      <td>ldRIMFr(t-4)</td>\n",
       "      <td>0.0</td>\n",
       "    </tr>\n",
       "    <tr>\n",
       "      <th>4</th>\n",
       "      <td>ldMAr(t)</td>\n",
       "      <td>0.000000</td>\n",
       "      <td>ldMAr(t-1)</td>\n",
       "      <td>0.000000</td>\n",
       "      <td>ldMAr(t-2)</td>\n",
       "      <td>0.000000</td>\n",
       "      <td>ldMAr(t-3)</td>\n",
       "      <td>0.0</td>\n",
       "      <td>ldMAr(t-4)</td>\n",
       "      <td>0.0</td>\n",
       "    </tr>\n",
       "    <tr>\n",
       "      <th>5</th>\n",
       "      <td>ldCHFr(t)</td>\n",
       "      <td>0.000000</td>\n",
       "      <td>ldCHFr(t-1)</td>\n",
       "      <td>-0.143742</td>\n",
       "      <td>ldCHFr(t-2)</td>\n",
       "      <td>0.000000</td>\n",
       "      <td>ldCHFr(t-3)</td>\n",
       "      <td>0.0</td>\n",
       "      <td>ldCHFr(t-4)</td>\n",
       "      <td>0.0</td>\n",
       "    </tr>\n",
       "    <tr>\n",
       "      <th>6</th>\n",
       "      <td>ldtotOAr(t)</td>\n",
       "      <td>0.000000</td>\n",
       "      <td>ldtotOAr(t-1)</td>\n",
       "      <td>0.000000</td>\n",
       "      <td>ldtotOAr(t-2)</td>\n",
       "      <td>0.000000</td>\n",
       "      <td>ldtotOAr(t-3)</td>\n",
       "      <td>0.0</td>\n",
       "      <td>ldtotOAr(t-4)</td>\n",
       "      <td>0.0</td>\n",
       "    </tr>\n",
       "    <tr>\n",
       "      <th>7</th>\n",
       "      <td>ldGDPch(t)</td>\n",
       "      <td>0.937311</td>\n",
       "      <td>ldGDPch(t-1)</td>\n",
       "      <td>0.000000</td>\n",
       "      <td>ldGDPch(t-2)</td>\n",
       "      <td>0.000000</td>\n",
       "      <td>ldGDPch(t-3)</td>\n",
       "      <td>0.0</td>\n",
       "      <td>ldGDPch(t-4)</td>\n",
       "      <td>0.0</td>\n",
       "    </tr>\n",
       "    <tr>\n",
       "      <th>8</th>\n",
       "      <td>ldGDPeu(t)</td>\n",
       "      <td>0.000000</td>\n",
       "      <td>ldGDPeu(t-1)</td>\n",
       "      <td>0.000000</td>\n",
       "      <td>ldGDPeu(t-2)</td>\n",
       "      <td>0.000000</td>\n",
       "      <td>ldGDPeu(t-3)</td>\n",
       "      <td>0.0</td>\n",
       "      <td>ldGDPeu(t-4)</td>\n",
       "      <td>0.0</td>\n",
       "    </tr>\n",
       "    <tr>\n",
       "      <th>9</th>\n",
       "      <td>dCPI(t)</td>\n",
       "      <td>0.000000</td>\n",
       "      <td>dCPI(t-1)</td>\n",
       "      <td>0.000000</td>\n",
       "      <td>dCPI(t-2)</td>\n",
       "      <td>0.000000</td>\n",
       "      <td>dCPI(t-3)</td>\n",
       "      <td>0.0</td>\n",
       "      <td>dCPI(t-4)</td>\n",
       "      <td>0.0</td>\n",
       "    </tr>\n",
       "  </tbody>\n",
       "</table>\n",
       "</div>"
      ],
      "text/plain": [
       "         value     betas          value     betas          value     betas  \\\n",
       "0    ldEXME(t)  0.000000    ldEXME(t-1) -0.644364    ldEXME(t-2)  0.100669   \n",
       "1      dCMR(t)  0.000000      dCMR(t-1)  0.000000      dCMR(t-2)  0.000000   \n",
       "2    ldFCIr(t)  0.000000    ldFCIr(t-1)  0.000000    ldFCIr(t-2)  0.000000   \n",
       "3   ldRIMFr(t)  0.000000   ldRIMFr(t-1)  0.000000   ldRIMFr(t-2)  0.000000   \n",
       "4     ldMAr(t)  0.000000     ldMAr(t-1)  0.000000     ldMAr(t-2)  0.000000   \n",
       "5    ldCHFr(t)  0.000000    ldCHFr(t-1) -0.143742    ldCHFr(t-2)  0.000000   \n",
       "6  ldtotOAr(t)  0.000000  ldtotOAr(t-1)  0.000000  ldtotOAr(t-2)  0.000000   \n",
       "7   ldGDPch(t)  0.937311   ldGDPch(t-1)  0.000000   ldGDPch(t-2)  0.000000   \n",
       "8   ldGDPeu(t)  0.000000   ldGDPeu(t-1)  0.000000   ldGDPeu(t-2)  0.000000   \n",
       "9      dCPI(t)  0.000000      dCPI(t-1)  0.000000      dCPI(t-2)  0.000000   \n",
       "\n",
       "           value  betas          value  betas  \n",
       "0    ldEXME(t-3)    0.0    ldEXME(t-4)    0.0  \n",
       "1      dCMR(t-3)    0.0      dCMR(t-4)    0.0  \n",
       "2    ldFCIr(t-3)    0.0    ldFCIr(t-4)    0.0  \n",
       "3   ldRIMFr(t-3)    0.0   ldRIMFr(t-4)    0.0  \n",
       "4     ldMAr(t-3)    0.0     ldMAr(t-4)    0.0  \n",
       "5    ldCHFr(t-3)    0.0    ldCHFr(t-4)    0.0  \n",
       "6  ldtotOAr(t-3)    0.0  ldtotOAr(t-4)    0.0  \n",
       "7   ldGDPch(t-3)    0.0   ldGDPch(t-4)    0.0  \n",
       "8   ldGDPeu(t-3)    0.0   ldGDPeu(t-4)    0.0  \n",
       "9      dCPI(t-3)    0.0      dCPI(t-4)    0.0  "
      ]
     },
     "execution_count": 8,
     "metadata": {},
     "output_type": "execute_result"
    }
   ],
   "source": [
    "# VAR-LiNGAM - ldGDPch, ldEXME, ldCHFr\n",
    "varlingam_features = pd.DataFrame({\"feature\": [\"ldGDPch\", \"ldEXME\", \"ldCHFr\"]})\n",
    "varlingam_features[\"betas\"] = 1\n",
    "varlingam_features[\"model\"] = \"varlingam\"\n",
    "\n",
    "pd.concat(Bs, axis=1)"
   ]
  },
  {
   "cell_type": "markdown",
   "metadata": {},
   "source": [
    "## 2) Dynotears"
   ]
  },
  {
   "cell_type": "code",
   "execution_count": 21,
   "metadata": {},
   "outputs": [],
   "source": [
    "p = 4\n",
    "data = pd.concat([y, X], axis=1)\n",
    "data = data.reset_index(drop=True)\n",
    "\n",
    "# run DYNOTEARS\n",
    "dynotears = from_pandas_dynamic(data, p=p)\n",
    "\n",
    "edges_df = pd.DataFrame(dynotears.edges(), columns=['to', 'from'])[['from', 'to']]\n",
    "edges_df[\"from_lag\"] = edges_df[\"from\"].apply(lambda x: int(x.split(\"_\")[1][-1]))\n",
    "edges_df[\"to_lag\"] = edges_df[\"to\"].apply(lambda x: int(x.split(\"_\")[1][-1]))\n",
    "\n",
    "edges_df[\"new_from\"] = edges_df[\"from\"].apply(lambda x: x.split(\"_\")[0])\n",
    "edges_df[\"new_to\"] = edges_df[\"to\"].apply(lambda x: x.split(\"_\")[0])\n",
    "\n",
    "# # select valid edges\n",
    "# edges_df = edges_df.loc[(edges_df[\"from_lag\"] == 0) & (edges_df[\"to_lag\"] != 0)]\n",
    "\n",
    "# build adjacency matrix\n",
    "adj = []\n",
    "for from_node in edges_df.loc[edges_df[\"from_lag\"] == 0][\"new_from\"].unique():\n",
    "    tmp_from = edges_df.loc[edges_df[\"new_from\"] == from_node]\n",
    "    col_names = []\n",
    "    for idx, row in tmp_from.iterrows():\n",
    "        col_names.append(f\"{row['new_to']}(t-{row['to_lag']})\")\n",
    "    row_name = from_node\n",
    "\n",
    "    tmp_adj = pd.DataFrame(1, columns=col_names, index=[f\"{row_name}(t)\"])\n",
    "    adj.append(tmp_adj)\n",
    "if len(adj) > 0:\n",
    "    adj_df = pd.concat(adj).fillna(0)\n",
    "else:\n",
    "    adj_df = pd.DataFrame(0, columns=data.columns, index=data.columns)\n",
    "\n",
    "target_adj_df = pd.DataFrame(adj_df.loc[f\"{target}(t)\"]).reset_index().rename(columns={f\"{target}(t)\": \"betas\", \"index\": \"value\"})"
   ]
  },
  {
   "cell_type": "code",
   "execution_count": 22,
   "metadata": {},
   "outputs": [
    {
     "data": {
      "text/html": [
       "<div>\n",
       "<style scoped>\n",
       "    .dataframe tbody tr th:only-of-type {\n",
       "        vertical-align: middle;\n",
       "    }\n",
       "\n",
       "    .dataframe tbody tr th {\n",
       "        vertical-align: top;\n",
       "    }\n",
       "\n",
       "    .dataframe thead th {\n",
       "        text-align: right;\n",
       "    }\n",
       "</style>\n",
       "<table border=\"1\" class=\"dataframe\">\n",
       "  <thead>\n",
       "    <tr style=\"text-align: right;\">\n",
       "      <th></th>\n",
       "      <th>value</th>\n",
       "      <th>betas</th>\n",
       "    </tr>\n",
       "  </thead>\n",
       "  <tbody>\n",
       "    <tr>\n",
       "      <th>0</th>\n",
       "      <td>ldEXME(t-0)</td>\n",
       "      <td>0.0</td>\n",
       "    </tr>\n",
       "    <tr>\n",
       "      <th>1</th>\n",
       "      <td>ldFCIr(t-1)</td>\n",
       "      <td>0.0</td>\n",
       "    </tr>\n",
       "    <tr>\n",
       "      <th>2</th>\n",
       "      <td>ldFCIr(t-3)</td>\n",
       "      <td>0.0</td>\n",
       "    </tr>\n",
       "    <tr>\n",
       "      <th>3</th>\n",
       "      <td>ldCHFr(t-2)</td>\n",
       "      <td>0.0</td>\n",
       "    </tr>\n",
       "    <tr>\n",
       "      <th>4</th>\n",
       "      <td>ldCHFr(t-3)</td>\n",
       "      <td>0.0</td>\n",
       "    </tr>\n",
       "    <tr>\n",
       "      <th>5</th>\n",
       "      <td>ldtotOAr(t-0)</td>\n",
       "      <td>0.0</td>\n",
       "    </tr>\n",
       "    <tr>\n",
       "      <th>6</th>\n",
       "      <td>ldEXME(t-1)</td>\n",
       "      <td>1.0</td>\n",
       "    </tr>\n",
       "    <tr>\n",
       "      <th>7</th>\n",
       "      <td>ldRIMFr(t-0)</td>\n",
       "      <td>0.0</td>\n",
       "    </tr>\n",
       "    <tr>\n",
       "      <th>8</th>\n",
       "      <td>ldRIMFr(t-4)</td>\n",
       "      <td>0.0</td>\n",
       "    </tr>\n",
       "    <tr>\n",
       "      <th>9</th>\n",
       "      <td>ldGDPch(t-1)</td>\n",
       "      <td>0.0</td>\n",
       "    </tr>\n",
       "    <tr>\n",
       "      <th>10</th>\n",
       "      <td>ldEXME(t-2)</td>\n",
       "      <td>1.0</td>\n",
       "    </tr>\n",
       "    <tr>\n",
       "      <th>11</th>\n",
       "      <td>ldCHFr(t-1)</td>\n",
       "      <td>1.0</td>\n",
       "    </tr>\n",
       "    <tr>\n",
       "      <th>12</th>\n",
       "      <td>ldGDPch(t-0)</td>\n",
       "      <td>1.0</td>\n",
       "    </tr>\n",
       "    <tr>\n",
       "      <th>13</th>\n",
       "      <td>ldGDPeu(t-0)</td>\n",
       "      <td>1.0</td>\n",
       "    </tr>\n",
       "    <tr>\n",
       "      <th>14</th>\n",
       "      <td>ldRIMFr(t-1)</td>\n",
       "      <td>0.0</td>\n",
       "    </tr>\n",
       "    <tr>\n",
       "      <th>15</th>\n",
       "      <td>ldMAr(t-0)</td>\n",
       "      <td>0.0</td>\n",
       "    </tr>\n",
       "    <tr>\n",
       "      <th>16</th>\n",
       "      <td>ldCHFr(t-0)</td>\n",
       "      <td>0.0</td>\n",
       "    </tr>\n",
       "    <tr>\n",
       "      <th>17</th>\n",
       "      <td>dCMR(t-0)</td>\n",
       "      <td>0.0</td>\n",
       "    </tr>\n",
       "    <tr>\n",
       "      <th>18</th>\n",
       "      <td>ldFCIr(t-0)</td>\n",
       "      <td>0.0</td>\n",
       "    </tr>\n",
       "    <tr>\n",
       "      <th>19</th>\n",
       "      <td>ldMAr(t-4)</td>\n",
       "      <td>0.0</td>\n",
       "    </tr>\n",
       "    <tr>\n",
       "      <th>20</th>\n",
       "      <td>dCMR(t-1)</td>\n",
       "      <td>0.0</td>\n",
       "    </tr>\n",
       "    <tr>\n",
       "      <th>21</th>\n",
       "      <td>dCMR(t-3)</td>\n",
       "      <td>0.0</td>\n",
       "    </tr>\n",
       "    <tr>\n",
       "      <th>22</th>\n",
       "      <td>dCMR(t-4)</td>\n",
       "      <td>0.0</td>\n",
       "    </tr>\n",
       "    <tr>\n",
       "      <th>23</th>\n",
       "      <td>ldtotOAr(t-4)</td>\n",
       "      <td>0.0</td>\n",
       "    </tr>\n",
       "    <tr>\n",
       "      <th>24</th>\n",
       "      <td>ldGDPeu(t-1)</td>\n",
       "      <td>0.0</td>\n",
       "    </tr>\n",
       "  </tbody>\n",
       "</table>\n",
       "</div>"
      ],
      "text/plain": [
       "            value  betas\n",
       "0     ldEXME(t-0)    0.0\n",
       "1     ldFCIr(t-1)    0.0\n",
       "2     ldFCIr(t-3)    0.0\n",
       "3     ldCHFr(t-2)    0.0\n",
       "4     ldCHFr(t-3)    0.0\n",
       "5   ldtotOAr(t-0)    0.0\n",
       "6     ldEXME(t-1)    1.0\n",
       "7    ldRIMFr(t-0)    0.0\n",
       "8    ldRIMFr(t-4)    0.0\n",
       "9    ldGDPch(t-1)    0.0\n",
       "10    ldEXME(t-2)    1.0\n",
       "11    ldCHFr(t-1)    1.0\n",
       "12   ldGDPch(t-0)    1.0\n",
       "13   ldGDPeu(t-0)    1.0\n",
       "14   ldRIMFr(t-1)    0.0\n",
       "15     ldMAr(t-0)    0.0\n",
       "16    ldCHFr(t-0)    0.0\n",
       "17      dCMR(t-0)    0.0\n",
       "18    ldFCIr(t-0)    0.0\n",
       "19     ldMAr(t-4)    0.0\n",
       "20      dCMR(t-1)    0.0\n",
       "21      dCMR(t-3)    0.0\n",
       "22      dCMR(t-4)    0.0\n",
       "23  ldtotOAr(t-4)    0.0\n",
       "24   ldGDPeu(t-1)    0.0"
      ]
     },
     "execution_count": 22,
     "metadata": {},
     "output_type": "execute_result"
    }
   ],
   "source": [
    "# Dynotears - ldGDPeu, ldEXME, ldCHFr, ldGDPch\n",
    "dynotears_features = pd.DataFrame({\"feature\": [\"ldGDPeu\", \"ldEXME\", \"ldCHFr\", \"ldGDPch\"]})\n",
    "dynotears_features[\"betas\"] = 1\n",
    "dynotears_features[\"model\"] = \"dynotears\"\n",
    "\n",
    "target_adj_df"
   ]
  },
  {
   "cell_type": "markdown",
   "metadata": {},
   "source": [
    "## 3) PCMCI"
   ]
  },
  {
   "cell_type": "code",
   "execution_count": 165,
   "metadata": {},
   "outputs": [],
   "source": [
    "p = 4\n",
    "pval_threshold = 0.05\n",
    "data = pd.concat([y, X], axis=1)\n",
    "data = data.reset_index(drop=True)\n",
    "\n",
    "data_train_tigramite = pp.DataFrame(data.values, var_names=data.columns)\n",
    "\n",
    "pcmci = PCMCI(dataframe=data_train_tigramite, cond_ind_test=cmiknn.CMIknn(), verbosity=0)\n",
    "pcmci.run_pcmci(tau_min=0, tau_max=p, pc_alpha=pval_threshold)\n",
    "\n",
    "parents_set = dict()\n",
    "for effect in pcmci.all_parents.keys():\n",
    "    parents_set[pcmci.var_names[effect]] = []\n",
    "    for cause, t in pcmci.all_parents[effect]:\n",
    "        parents_set[pcmci.var_names[effect]].append((pcmci.var_names[cause], t))"
   ]
  },
  {
   "cell_type": "code",
   "execution_count": 170,
   "metadata": {},
   "outputs": [
    {
     "data": {
      "text/plain": [
       "'ldEXME'"
      ]
     },
     "execution_count": 170,
     "metadata": {},
     "output_type": "execute_result"
    }
   ],
   "source": [
    "target"
   ]
  },
  {
   "cell_type": "code",
   "execution_count": 169,
   "metadata": {},
   "outputs": [
    {
     "data": {
      "text/plain": [
       "dict_keys(['ldEXME', 'dCMR', 'ldFCIr', 'ldRIMFr', 'ldMAr', 'ldCHFr', 'ldtotOAr', 'ldGDPch', 'ldGDPeu', 'dCPI'])"
      ]
     },
     "execution_count": 169,
     "metadata": {},
     "output_type": "execute_result"
    }
   ],
   "source": [
    "parents_set.keys()"
   ]
  },
  {
   "cell_type": "code",
   "execution_count": 172,
   "metadata": {},
   "outputs": [
    {
     "data": {
      "text/plain": [
       "{'ldEXME': [],\n",
       " 'dCMR': [('dCMR', -1), ('dCMR', -3)],\n",
       " 'ldFCIr': [('ldFCIr', -6),\n",
       "  ('ldFCIr', -1),\n",
       "  ('ldFCIr', -2),\n",
       "  ('ldFCIr', -5),\n",
       "  ('ldtotOAr', -4)],\n",
       " 'ldRIMFr': [('ldFCIr', -6), ('ldFCIr', -1)],\n",
       " 'ldMAr': [('ldMAr', -6), ('ldFCIr', -6)],\n",
       " 'ldCHFr': [('ldFCIr', -1), ('ldFCIr', -6)],\n",
       " 'ldtotOAr': [('ldFCIr', -5),\n",
       "  ('ldFCIr', -2),\n",
       "  ('ldtotOAr', -3),\n",
       "  ('ldtotOAr', -1)],\n",
       " 'ldGDPch': [('ldEXME', -1), ('ldEXME', -3)],\n",
       " 'ldGDPeu': [('ldGDPeu', -1), ('ldtotOAr', -2)],\n",
       " 'dCPI': [('dCPI', -1), ('dCPI', -2)]}"
      ]
     },
     "execution_count": 172,
     "metadata": {},
     "output_type": "execute_result"
    }
   ],
   "source": [
    "parents_set"
   ]
  },
  {
   "cell_type": "code",
   "execution_count": 171,
   "metadata": {},
   "outputs": [
    {
     "data": {
      "text/plain": [
       "[]"
      ]
     },
     "execution_count": 171,
     "metadata": {},
     "output_type": "execute_result"
    }
   ],
   "source": [
    "parents_set[target]"
   ]
  },
  {
   "cell_type": "code",
   "execution_count": 23,
   "metadata": {},
   "outputs": [],
   "source": [
    "# pcmci - []\n",
    "pcmci_features = pd.DataFrame({\"feature\": []})\n",
    "pcmci_features[\"betas\"] = 1\n",
    "pcmci_features[\"model\"] = \"pcmci\""
   ]
  },
  {
   "cell_type": "markdown",
   "metadata": {},
   "source": [
    "## 4) Multivariate granger"
   ]
  },
  {
   "cell_type": "code",
   "execution_count": 13,
   "metadata": {},
   "outputs": [],
   "source": [
    "p = 4\n",
    "pval_threshold = 0.05\n",
    "data = pd.concat([y, X], axis=1)\n",
    "data = data.reset_index(drop=True)\n",
    "\n",
    "# run grander causality test for each feature\n",
    "var_fit = VAR(data).fit(maxlags=p)\n",
    "\n",
    "# run grander causality test for each feature\n",
    "selected_variables = []\n",
    "for colname in data.columns:\n",
    "    if colname != target:\n",
    "        test_result = var_fit.test_causality(target, [colname], kind='f', signif=pval_threshold)\n",
    "        if test_result.pvalue <= pval_threshold:\n",
    "            for lag in range(1, p + 1):\n",
    "                selected_variables += [f\"{colname}(t-{lag})\"]               \n"
   ]
  },
  {
   "cell_type": "code",
   "execution_count": 14,
   "metadata": {},
   "outputs": [
    {
     "data": {
      "text/plain": [
       "['ldFCIr(t-1)',\n",
       " 'ldFCIr(t-2)',\n",
       " 'ldFCIr(t-3)',\n",
       " 'ldFCIr(t-4)',\n",
       " 'ldCHFr(t-1)',\n",
       " 'ldCHFr(t-2)',\n",
       " 'ldCHFr(t-3)',\n",
       " 'ldCHFr(t-4)',\n",
       " 'ldGDPch(t-1)',\n",
       " 'ldGDPch(t-2)',\n",
       " 'ldGDPch(t-3)',\n",
       " 'ldGDPch(t-4)']"
      ]
     },
     "execution_count": 14,
     "metadata": {},
     "output_type": "execute_result"
    }
   ],
   "source": [
    "selected_variables"
   ]
  },
  {
   "cell_type": "code",
   "execution_count": 15,
   "metadata": {},
   "outputs": [],
   "source": [
    "# mvgranger - ldGDPch\n",
    "mvgranger_features = pd.DataFrame({\"feature\": [\"ldGDPch\"]})\n",
    "mvgranger_features[\"betas\"] = 1\n",
    "mvgranger_features[\"model\"] = \"mvgranger\""
   ]
  },
  {
   "cell_type": "markdown",
   "metadata": {},
   "source": [
    "## 5) Pairwise Granger"
   ]
  },
  {
   "cell_type": "code",
   "execution_count": 16,
   "metadata": {},
   "outputs": [
    {
     "name": "stderr",
     "output_type": "stream",
     "text": [
      "/Users/danieloliveira/opt/anaconda3/envs/cml-fin/lib/python3.8/site-packages/statsmodels/tsa/stattools.py:1488: FutureWarning: verbose is deprecated since functions should not print results\n",
      "  warnings.warn(\n",
      "/Users/danieloliveira/opt/anaconda3/envs/cml-fin/lib/python3.8/site-packages/statsmodels/tsa/stattools.py:1488: FutureWarning: verbose is deprecated since functions should not print results\n",
      "  warnings.warn(\n",
      "/Users/danieloliveira/opt/anaconda3/envs/cml-fin/lib/python3.8/site-packages/statsmodels/tsa/stattools.py:1488: FutureWarning: verbose is deprecated since functions should not print results\n",
      "  warnings.warn(\n",
      "/Users/danieloliveira/opt/anaconda3/envs/cml-fin/lib/python3.8/site-packages/statsmodels/tsa/stattools.py:1488: FutureWarning: verbose is deprecated since functions should not print results\n",
      "  warnings.warn(\n",
      "/Users/danieloliveira/opt/anaconda3/envs/cml-fin/lib/python3.8/site-packages/statsmodels/tsa/stattools.py:1488: FutureWarning: verbose is deprecated since functions should not print results\n",
      "  warnings.warn(\n",
      "/Users/danieloliveira/opt/anaconda3/envs/cml-fin/lib/python3.8/site-packages/statsmodels/tsa/stattools.py:1488: FutureWarning: verbose is deprecated since functions should not print results\n",
      "  warnings.warn(\n",
      "/Users/danieloliveira/opt/anaconda3/envs/cml-fin/lib/python3.8/site-packages/statsmodels/tsa/stattools.py:1488: FutureWarning: verbose is deprecated since functions should not print results\n",
      "  warnings.warn(\n",
      "/Users/danieloliveira/opt/anaconda3/envs/cml-fin/lib/python3.8/site-packages/statsmodels/tsa/stattools.py:1488: FutureWarning: verbose is deprecated since functions should not print results\n",
      "  warnings.warn(\n",
      "/Users/danieloliveira/opt/anaconda3/envs/cml-fin/lib/python3.8/site-packages/statsmodels/tsa/stattools.py:1488: FutureWarning: verbose is deprecated since functions should not print results\n",
      "  warnings.warn(\n",
      "/Users/danieloliveira/opt/anaconda3/envs/cml-fin/lib/python3.8/site-packages/statsmodels/tsa/stattools.py:1488: FutureWarning: verbose is deprecated since functions should not print results\n",
      "  warnings.warn(\n"
     ]
    }
   ],
   "source": [
    "p = 4\n",
    "incercept = False\n",
    "pval_threshold = 0.05\n",
    "data = pd.concat([y, X], axis=1)\n",
    "data = data.reset_index(drop=True)\n",
    "\n",
    "selected_variables = []\n",
    "# run grander causality test for each feature\n",
    "for colname in data.columns:\n",
    "    test_result = grangercausalitytests(x=data[[target, colname]], maxlag=p, verbose=False)\n",
    "\n",
    "    # select variables with p-value < 0.05\n",
    "    for lag in test_result.keys():\n",
    "        pval = test_result[lag][0]['ssr_ftest'][1]\n",
    "        if pval <= pval_threshold:\n",
    "            selected_variables += [f\"{colname}(t-{lag})\"]"
   ]
  },
  {
   "cell_type": "code",
   "execution_count": 17,
   "metadata": {},
   "outputs": [
    {
     "data": {
      "text/plain": [
       "['dCMR(t-1)', 'ldGDPch(t-2)']"
      ]
     },
     "execution_count": 17,
     "metadata": {},
     "output_type": "execute_result"
    }
   ],
   "source": [
    "selected_variables"
   ]
  },
  {
   "cell_type": "code",
   "execution_count": 18,
   "metadata": {},
   "outputs": [],
   "source": [
    "# mvgranger - dCMR, ldGDPch\n",
    "pwgranger_features = pd.DataFrame({\"feature\": [\"dCMR\", \"ldGDPch\"]})\n",
    "pwgranger_features[\"betas\"] = 1\n",
    "pwgranger_features[\"model\"] = \"pwgranger\""
   ]
  },
  {
   "cell_type": "markdown",
   "metadata": {},
   "source": [
    "## 6) seqICP"
   ]
  },
  {
   "cell_type": "code",
   "execution_count": 25,
   "metadata": {},
   "outputs": [],
   "source": [
    "seqicp_features = pd.DataFrame({\"feature\": [\"ldFCIr\", \"ldGDPch\"]})\n",
    "seqicp_features[\"betas\"] = 1\n",
    "seqicp_features[\"model\"] = \"seqicp\""
   ]
  },
  {
   "cell_type": "markdown",
   "metadata": {},
   "source": [
    "## All Features"
   ]
  },
  {
   "cell_type": "code",
   "execution_count": 26,
   "metadata": {},
   "outputs": [
    {
     "data": {
      "text/html": [
       "<div>\n",
       "<style scoped>\n",
       "    .dataframe tbody tr th:only-of-type {\n",
       "        vertical-align: middle;\n",
       "    }\n",
       "\n",
       "    .dataframe tbody tr th {\n",
       "        vertical-align: top;\n",
       "    }\n",
       "\n",
       "    .dataframe thead tr th {\n",
       "        text-align: left;\n",
       "    }\n",
       "\n",
       "    .dataframe thead tr:last-of-type th {\n",
       "        text-align: right;\n",
       "    }\n",
       "</style>\n",
       "<table border=\"1\" class=\"dataframe\">\n",
       "  <thead>\n",
       "    <tr>\n",
       "      <th></th>\n",
       "      <th colspan=\"6\" halign=\"left\">betas</th>\n",
       "    </tr>\n",
       "    <tr>\n",
       "      <th>feature</th>\n",
       "      <th>dCMR</th>\n",
       "      <th>ldCHFr</th>\n",
       "      <th>ldEXME</th>\n",
       "      <th>ldFCIr</th>\n",
       "      <th>ldGDPch</th>\n",
       "      <th>ldGDPeu</th>\n",
       "    </tr>\n",
       "    <tr>\n",
       "      <th>model</th>\n",
       "      <th></th>\n",
       "      <th></th>\n",
       "      <th></th>\n",
       "      <th></th>\n",
       "      <th></th>\n",
       "      <th></th>\n",
       "    </tr>\n",
       "  </thead>\n",
       "  <tbody>\n",
       "    <tr>\n",
       "      <th>dynotears</th>\n",
       "      <td>NaN</td>\n",
       "      <td>1.0</td>\n",
       "      <td>1.0</td>\n",
       "      <td>NaN</td>\n",
       "      <td>1.0</td>\n",
       "      <td>1.0</td>\n",
       "    </tr>\n",
       "    <tr>\n",
       "      <th>mvgranger</th>\n",
       "      <td>NaN</td>\n",
       "      <td>NaN</td>\n",
       "      <td>NaN</td>\n",
       "      <td>NaN</td>\n",
       "      <td>1.0</td>\n",
       "      <td>NaN</td>\n",
       "    </tr>\n",
       "    <tr>\n",
       "      <th>pwgranger</th>\n",
       "      <td>1.0</td>\n",
       "      <td>NaN</td>\n",
       "      <td>NaN</td>\n",
       "      <td>NaN</td>\n",
       "      <td>1.0</td>\n",
       "      <td>NaN</td>\n",
       "    </tr>\n",
       "    <tr>\n",
       "      <th>seqicp</th>\n",
       "      <td>NaN</td>\n",
       "      <td>NaN</td>\n",
       "      <td>NaN</td>\n",
       "      <td>1.0</td>\n",
       "      <td>1.0</td>\n",
       "      <td>NaN</td>\n",
       "    </tr>\n",
       "    <tr>\n",
       "      <th>varlingam</th>\n",
       "      <td>NaN</td>\n",
       "      <td>1.0</td>\n",
       "      <td>1.0</td>\n",
       "      <td>NaN</td>\n",
       "      <td>1.0</td>\n",
       "      <td>NaN</td>\n",
       "    </tr>\n",
       "  </tbody>\n",
       "</table>\n",
       "</div>"
      ],
      "text/plain": [
       "          betas                                     \n",
       "feature    dCMR ldCHFr ldEXME ldFCIr ldGDPch ldGDPeu\n",
       "model                                               \n",
       "dynotears   NaN    1.0    1.0    NaN     1.0     1.0\n",
       "mvgranger   NaN    NaN    NaN    NaN     1.0     NaN\n",
       "pwgranger   1.0    NaN    NaN    NaN     1.0     NaN\n",
       "seqicp      NaN    NaN    NaN    1.0     1.0     NaN\n",
       "varlingam   NaN    1.0    1.0    NaN     1.0     NaN"
      ]
     },
     "execution_count": 26,
     "metadata": {},
     "output_type": "execute_result"
    }
   ],
   "source": [
    "pd.concat([varlingam_features,\n",
    "           dynotears_features,\n",
    "           seqicp_features,\n",
    "           pcmci_features,\n",
    "           mvgranger_features,\n",
    "           pwgranger_features], axis=0).pivot_table(columns=[\"feature\"], index=[\"model\"], values=[\"betas\"])"
   ]
  },
  {
   "cell_type": "code",
   "execution_count": null,
   "metadata": {},
   "outputs": [],
   "source": []
  }
 ],
 "metadata": {
  "kernelspec": {
   "display_name": "cml-fin",
   "language": "python",
   "name": "python3"
  },
  "language_info": {
   "codemirror_mode": {
    "name": "ipython",
    "version": 3
   },
   "file_extension": ".py",
   "mimetype": "text/x-python",
   "name": "python",
   "nbconvert_exporter": "python",
   "pygments_lexer": "ipython3",
   "version": "3.8.19"
  }
 },
 "nbformat": 4,
 "nbformat_minor": 2
}
