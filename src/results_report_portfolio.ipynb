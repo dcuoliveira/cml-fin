{
 "cells": [
  {
   "cell_type": "code",
   "execution_count": 1,
   "id": "0e56c7e5",
   "metadata": {
    "tags": []
   },
   "outputs": [],
   "source": [
    "import pandas as pd\n",
    "import numpy as np\n",
    "from utils.conn_data import load_pickle\n",
    "import os\n",
    "from os.path import join\n",
    "import glob\n",
    "import matplotlib.pyplot as plt\n",
    "import seaborn as sns"
   ]
  },
  {
   "cell_type": "code",
   "execution_count": 6,
   "id": "d70c9dab",
   "metadata": {
    "tags": []
   },
   "outputs": [],
   "source": [
    "outputs_path = os.path.join(os.path.dirname(os.getcwd()), \"src\", \"data\", \"outputs\")\n",
    "\n",
    "# fs_methods = [\"lasso\", \"multivariate-granger\", \"pairwise-granger\", \"var-lingam\", \"dynotears\"]\n",
    "fs_methods = [\"lasso\"]"
   ]
  },
  {
   "cell_type": "code",
   "execution_count": 7,
   "id": "0de4359f-88c7-49e3-8e3c-8761e154e33b",
   "metadata": {
    "tags": []
   },
   "outputs": [
    {
     "data": {
      "text/plain": [
       "'/Users/danieloliveira/Documents/Daniel/codes/cml-fin/src/data/outputs'"
      ]
     },
     "execution_count": 7,
     "metadata": {},
     "output_type": "execute_result"
    }
   ],
   "source": [
    "outputs_path"
   ]
  },
  {
   "cell_type": "code",
   "execution_count": 8,
   "id": "3173d4ad-e1eb-4bb1-b9b3-cb670095d585",
   "metadata": {
    "tags": []
   },
   "outputs": [],
   "source": [
    "class backtester:\n",
    "    def __init__(self, dfPred):\n",
    "        self.yPred = dfPred[\"prediction\"]\n",
    "        self.yTrue = dfPred[\"true\"]\n",
    "        \n",
    "    def simpleStrategy(self):\n",
    "        self.stratName = \"simple\"\n",
    "        self.pnl = np.sign(self.yPred) * self.yTrue\n",
    "        #self.pnl = self.pnl.reshape(-1)\n",
    "        return self.pnl\n",
    "\n",
    "\n",
    "def calculateSharpeRatio(dfPnl, annulaize = 12, rf = 0):\n",
    "    sr = (dfPnl.mean() - rf) / dfPnl.std() * np.sqrt(annulaize)\n",
    "    return sr\n",
    "\n",
    "def calculateAnnualizedReturn(dfPnl, annulaize = 12):\n",
    "    cr = dfPnl.mean() * annulaize * 100\n",
    "    return cr"
   ]
  },
  {
   "cell_type": "code",
   "execution_count": 9,
   "id": "f634251f-129a-4736-b5d3-6474561cf69b",
   "metadata": {
    "tags": []
   },
   "outputs": [],
   "source": [
    "etf = \"SPY\"\n",
    "for i, fs in enumerate(fs_methods):\n",
    "    results_files = glob.glob(os.path.join(outputs_path, fs, \"etfs_macro_large\", f\"{etf}*.pickle\"))\n",
    "    dfPred = load_pickle(results_files[0])[\"predictions\"]\n",
    "    dfPred = np.log(1 + dfPred / 100)\n",
    "    \n",
    "    bt = backtester(dfPred)\n",
    "    bt.simpleStrategy()\n",
    "    \n",
    "    if i == 0:\n",
    "        dfPnl = dfPred[[\"true\"]].copy()\n",
    "        dfPnl.columns = [etf]\n",
    "    dfPnl[fs] = bt.pnl\n",
    "\n",
    "    "
   ]
  },
  {
   "cell_type": "code",
   "execution_count": 11,
   "id": "5fb2c935-8310-491b-936e-aa913324876b",
   "metadata": {
    "tags": []
   },
   "outputs": [
    {
     "data": {
      "text/html": [
       "<div>\n",
       "<style scoped>\n",
       "    .dataframe tbody tr th:only-of-type {\n",
       "        vertical-align: middle;\n",
       "    }\n",
       "\n",
       "    .dataframe tbody tr th {\n",
       "        vertical-align: top;\n",
       "    }\n",
       "\n",
       "    .dataframe thead th {\n",
       "        text-align: right;\n",
       "    }\n",
       "</style>\n",
       "<table border=\"1\" class=\"dataframe\">\n",
       "  <thead>\n",
       "    <tr style=\"text-align: right;\">\n",
       "      <th></th>\n",
       "      <th>prediction_zscore</th>\n",
       "      <th>true_zscore</th>\n",
       "      <th>prediction</th>\n",
       "      <th>true</th>\n",
       "    </tr>\n",
       "    <tr>\n",
       "      <th>date</th>\n",
       "      <th></th>\n",
       "      <th></th>\n",
       "      <th></th>\n",
       "      <th></th>\n",
       "    </tr>\n",
       "  </thead>\n",
       "  <tbody>\n",
       "    <tr>\n",
       "      <th>2022-07-31</th>\n",
       "      <td>0.000000</td>\n",
       "      <td>0.018667</td>\n",
       "      <td>0.000000</td>\n",
       "      <td>0.000881</td>\n",
       "    </tr>\n",
       "    <tr>\n",
       "      <th>2022-08-31</th>\n",
       "      <td>0.000000</td>\n",
       "      <td>-0.010667</td>\n",
       "      <td>0.000000</td>\n",
       "      <td>-0.000417</td>\n",
       "    </tr>\n",
       "    <tr>\n",
       "      <th>2022-09-30</th>\n",
       "      <td>0.003849</td>\n",
       "      <td>-0.023248</td>\n",
       "      <td>0.000222</td>\n",
       "      <td>-0.000967</td>\n",
       "    </tr>\n",
       "    <tr>\n",
       "      <th>2022-10-31</th>\n",
       "      <td>0.000000</td>\n",
       "      <td>0.016297</td>\n",
       "      <td>0.000000</td>\n",
       "      <td>0.000781</td>\n",
       "    </tr>\n",
       "    <tr>\n",
       "      <th>2022-11-30</th>\n",
       "      <td>0.000000</td>\n",
       "      <td>0.010892</td>\n",
       "      <td>0.000000</td>\n",
       "      <td>0.000541</td>\n",
       "    </tr>\n",
       "  </tbody>\n",
       "</table>\n",
       "</div>"
      ],
      "text/plain": [
       "            prediction_zscore  true_zscore  prediction      true\n",
       "date                                                            \n",
       "2022-07-31           0.000000     0.018667    0.000000  0.000881\n",
       "2022-08-31           0.000000    -0.010667    0.000000 -0.000417\n",
       "2022-09-30           0.003849    -0.023248    0.000222 -0.000967\n",
       "2022-10-31           0.000000     0.016297    0.000000  0.000781\n",
       "2022-11-30           0.000000     0.010892    0.000000  0.000541"
      ]
     },
     "execution_count": 11,
     "metadata": {},
     "output_type": "execute_result"
    }
   ],
   "source": [
    "dfPred.tail()"
   ]
  },
  {
   "cell_type": "code",
   "execution_count": 12,
   "id": "d3636d84-d960-4c6d-99f1-420f41bf9a38",
   "metadata": {
    "tags": []
   },
   "outputs": [
    {
     "data": {
      "text/plain": [
       "SPY      0.58648\n",
       "lasso    0.09762\n",
       "dtype: float64"
      ]
     },
     "execution_count": 12,
     "metadata": {},
     "output_type": "execute_result"
    }
   ],
   "source": [
    "calculateSharpeRatio(dfPnl)"
   ]
  },
  {
   "cell_type": "code",
   "execution_count": 13,
   "id": "d9134d1d-1384-4935-8edd-c40fc1529453",
   "metadata": {
    "tags": []
   },
   "outputs": [
    {
     "data": {
      "text/plain": [
       "SPY      0.087717\n",
       "lasso    0.008053\n",
       "dtype: float64"
      ]
     },
     "execution_count": 13,
     "metadata": {},
     "output_type": "execute_result"
    }
   ],
   "source": [
    "calculateAnnualizedReturn(dfPnl)"
   ]
  },
  {
   "cell_type": "code",
   "execution_count": 14,
   "id": "544cee66-403d-4103-b842-cb5faf2b99b9",
   "metadata": {
    "tags": []
   },
   "outputs": [
    {
     "data": {
      "text/plain": [
       "Text(0, 0.5, 'Cumulative returns (%)')"
      ]
     },
     "execution_count": 14,
     "metadata": {},
     "output_type": "execute_result"
    },
    {
     "data": {
      "image/png": "[encoded data removed]",
      "text/plain": [
       "<Figure size 1000x500 with 1 Axes>"
      ]
     },
     "metadata": {},
     "output_type": "display_data"
    }
   ],
   "source": [
    "fig, ax = plt.subplots(1, 1, figsize = (10, 5))\n",
    "sns.lineplot(data = dfPnl.cumsum() * 100, ax = ax)\n",
    "ax.set_ylabel(\"Cumulative returns (%)\")"
   ]
  },
  {
   "cell_type": "code",
   "execution_count": 15,
   "id": "10857994-48aa-4d73-a0c7-10c9c3f93014",
   "metadata": {
    "tags": []
   },
   "outputs": [],
   "source": [
    "fig.savefig(\"PnLPlot.png\", bbox_inches = \"tight\")"
   ]
  },
  {
   "cell_type": "code",
   "execution_count": null,
   "metadata": {},
   "outputs": [],
   "source": []
  }
 ],
 "metadata": {
  "kernelspec": {
   "display_name": "Python 3 (ipykernel)",
   "language": "python",
   "name": "python3"
  },
  "language_info": {
   "codemirror_mode": {
    "name": "ipython",
    "version": 3
   },
   "file_extension": ".py",
   "mimetype": "text/x-python",
   "name": "python",
   "nbconvert_exporter": "python",
   "pygments_lexer": "ipython3",
   "version": "3.7.0"
  }
 },
 "nbformat": 4,
 "nbformat_minor": 5
}
